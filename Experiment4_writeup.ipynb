{
  "nbformat": 4,
  "nbformat_minor": 0,
  "metadata": {
    "colab": {
      "name": "Experiment4_writeup.ipynb",
      "provenance": [],
      "collapsed_sections": [],
      "include_colab_link": true
    },
    "kernelspec": {
      "name": "ir",
      "display_name": "R"
    }
  },
  "cells": [
    {
      "cell_type": "markdown",
      "metadata": {
        "id": "view-in-github",
        "colab_type": "text"
      },
      "source": [
        "<a href=\"https://colab.research.google.com/github/jadhavss22/R-programming/blob/main/Experiment4_writeup.ipynb\" target=\"_parent\"><img src=\"https://colab.research.google.com/assets/colab-badge.svg\" alt=\"Open In Colab\"/></a>"
      ]
    },
    {
      "cell_type": "markdown",
      "metadata": {
        "id": "ID8ytqkhyQUI"
      },
      "source": [
        "**R Programming apply family of functions**\n",
        "\n",
        "In this experiment we will learn about how to use apply family of functions\n",
        "to do data wrangling and avaoid use of looping constructs \n",
        "\n",
        "The R base manual tells you that it’s called as follows: \n",
        "\n",
        "```\n",
        "apply(X, MARGIN, FUN, ...)\n",
        "```\n",
        "\n",
        "\n",
        "```X``` is an array or a matrix if the dimension of the array is ```2```\n",
        "\n",
        "```MARGIN``` is a variable defining how the function is applied: \n",
        " \n",
        "\n",
        "*   When ```MARGIN=1```, it applies over rows \n",
        "*   Whereas with ```MARGIN=2```, it works over columns\n",
        "*   ```MARGIN=c(1,2)```, it applies to both rows and columns;     \n",
        "\n",
        "and\n",
        "```FUN```, represents the function that you want to apply to the data. It can be any R function, including a User Defined Function (UDF)."
      ]
    },
    {
      "cell_type": "code",
      "metadata": {
        "id": "rlOEIqlfJf2P",
        "colab": {
          "base_uri": "https://localhost:8080/",
          "height": 182
        },
        "outputId": "0831733e-ddb7-40cf-9756-6252fffc5601"
      },
      "source": [
        "# Complete the following code by using apropriate apply family function\n",
        "# Construct a 5x6 matrix\n",
        "X <-matrix(rnorm(30), nrow=5, ncol=6)\n",
        "X\n"
      ],
      "execution_count": 1,
      "outputs": [
        {
          "output_type": "display_data",
          "data": {
            "text/plain": [
              "     [,1]        [,2]       [,3]       [,4]       [,5]       [,6]       \n",
              "[1,] -1.69175809  0.2105984 -0.2619720  0.1555658 -0.9378896  0.27069400\n",
              "[2,] -0.07266317 -0.2257545 -0.7862563  0.1732012  1.8184709 -2.36381640\n",
              "[3,]  0.37463796 -0.5142799  1.0628709  0.2141606 -0.6156926 -0.84989264\n",
              "[4,] -0.22643658 -0.9476201 -0.4891863 -1.0132449 -1.9818141  0.31769825\n",
              "[5,] -1.00712010 -1.0783884 -0.3840242 -0.2192596 -1.0711519 -0.05417141"
            ],
            "text/latex": "A matrix: 5 × 6 of type dbl\n\\begin{tabular}{llllll}\n\t -1.69175809 &  0.2105984 & -0.2619720 &  0.1555658 & -0.9378896 &  0.27069400\\\\\n\t -0.07266317 & -0.2257545 & -0.7862563 &  0.1732012 &  1.8184709 & -2.36381640\\\\\n\t  0.37463796 & -0.5142799 &  1.0628709 &  0.2141606 & -0.6156926 & -0.84989264\\\\\n\t -0.22643658 & -0.9476201 & -0.4891863 & -1.0132449 & -1.9818141 &  0.31769825\\\\\n\t -1.00712010 & -1.0783884 & -0.3840242 & -0.2192596 & -1.0711519 & -0.05417141\\\\\n\\end{tabular}\n",
            "text/markdown": "\nA matrix: 5 × 6 of type dbl\n\n| -1.69175809 |  0.2105984 | -0.2619720 |  0.1555658 | -0.9378896 |  0.27069400 |\n| -0.07266317 | -0.2257545 | -0.7862563 |  0.1732012 |  1.8184709 | -2.36381640 |\n|  0.37463796 | -0.5142799 |  1.0628709 |  0.2141606 | -0.6156926 | -0.84989264 |\n| -0.22643658 | -0.9476201 | -0.4891863 | -1.0132449 | -1.9818141 |  0.31769825 |\n| -1.00712010 | -1.0783884 | -0.3840242 | -0.2192596 | -1.0711519 | -0.05417141 |\n\n",
            "text/html": [
              "<table class=\"dataframe\">\n",
              "<caption>A matrix: 5 × 6 of type dbl</caption>\n",
              "<tbody>\n",
              "\t<tr><td>-1.69175809</td><td> 0.2105984</td><td>-0.2619720</td><td> 0.1555658</td><td>-0.9378896</td><td> 0.27069400</td></tr>\n",
              "\t<tr><td>-0.07266317</td><td>-0.2257545</td><td>-0.7862563</td><td> 0.1732012</td><td> 1.8184709</td><td>-2.36381640</td></tr>\n",
              "\t<tr><td> 0.37463796</td><td>-0.5142799</td><td> 1.0628709</td><td> 0.2141606</td><td>-0.6156926</td><td>-0.84989264</td></tr>\n",
              "\t<tr><td>-0.22643658</td><td>-0.9476201</td><td>-0.4891863</td><td>-1.0132449</td><td>-1.9818141</td><td> 0.31769825</td></tr>\n",
              "\t<tr><td>-1.00712010</td><td>-1.0783884</td><td>-0.3840242</td><td>-0.2192596</td><td>-1.0711519</td><td>-0.05417141</td></tr>\n",
              "</tbody>\n",
              "</table>\n"
            ]
          },
          "metadata": {
            "tags": []
          }
        }
      ]
    },
    {
      "cell_type": "code",
      "metadata": {
        "colab": {
          "base_uri": "https://localhost:8080/",
          "height": 34
        },
        "id": "8Q7mn6BG7Zbd",
        "outputId": "44039336-8f0c-41dc-905a-98c2ec8b68ab"
      },
      "source": [
        "# Sum the values of each column with apply()\n",
        "X_colsum <- apply(X,2,sum)\n",
        "X_colsum"
      ],
      "execution_count": 2,
      "outputs": [
        {
          "output_type": "display_data",
          "data": {
            "text/plain": [
              "[1] -2.6233400 -2.5554445 -0.8585679 -0.6895769 -2.7880774 -2.6794882"
            ],
            "text/latex": "\\begin{enumerate*}\n\\item -2.62333999185297\n\\item -2.55544445579224\n\\item -0.858567935416699\n\\item -0.689576948281601\n\\item -2.78807744235517\n\\item -2.6794881998958\n\\end{enumerate*}\n",
            "text/markdown": "1. -2.62333999185297\n2. -2.55544445579224\n3. -0.858567935416699\n4. -0.689576948281601\n5. -2.78807744235517\n6. -2.6794881998958\n\n\n",
            "text/html": [
              "<style>\n",
              ".list-inline {list-style: none; margin:0; padding: 0}\n",
              ".list-inline>li {display: inline-block}\n",
              ".list-inline>li:not(:last-child)::after {content: \"\\00b7\"; padding: 0 .5ex}\n",
              "</style>\n",
              "<ol class=list-inline><li>-2.62333999185297</li><li>-2.55544445579224</li><li>-0.858567935416699</li><li>-0.689576948281601</li><li>-2.78807744235517</li><li>-2.6794881998958</li></ol>\n"
            ]
          },
          "metadata": {
            "tags": []
          }
        }
      ]
    },
    {
      "cell_type": "code",
      "metadata": {
        "colab": {
          "base_uri": "https://localhost:8080/",
          "height": 34
        },
        "id": "kJxb9YQs7q3a",
        "outputId": "1e2c0790-6de1-4c2b-f4eb-37aba5118562"
      },
      "source": [
        "# Sum the values of each row with apply()\n",
        "X_rowsum <- apply(X,1,sum)\n",
        "X_rowsum"
      ],
      "execution_count": 3,
      "outputs": [
        {
          "output_type": "display_data",
          "data": {
            "text/plain": [
              "[1] -2.2547615 -1.4568183 -0.3281958 -4.3406036 -3.8141157"
            ],
            "text/latex": "\\begin{enumerate*}\n\\item -2.25476153121472\n\\item -1.45681834893969\n\\item -0.328195753324085\n\\item -4.34060364744697\n\\item -3.814115692669\n\\end{enumerate*}\n",
            "text/markdown": "1. -2.25476153121472\n2. -1.45681834893969\n3. -0.328195753324085\n4. -4.34060364744697\n5. -3.814115692669\n\n\n",
            "text/html": [
              "<style>\n",
              ".list-inline {list-style: none; margin:0; padding: 0}\n",
              ".list-inline>li {display: inline-block}\n",
              ".list-inline>li:not(:last-child)::after {content: \"\\00b7\"; padding: 0 .5ex}\n",
              "</style>\n",
              "<ol class=list-inline><li>-2.25476153121472</li><li>-1.45681834893969</li><li>-0.328195753324085</li><li>-4.34060364744697</li><li>-3.814115692669</li></ol>\n"
            ]
          },
          "metadata": {
            "tags": []
          }
        }
      ]
    },
    {
      "cell_type": "code",
      "metadata": {
        "id": "XzaE_-Cyfpk9",
        "colab": {
          "base_uri": "https://localhost:8080/",
          "height": 182
        },
        "outputId": "c09f0741-1d52-49ed-f06e-b4cb9e57a864"
      },
      "source": [
        "# Complete the following code by using looping construct\n",
        "# Construct a 5x6 matrix\n",
        "X <-matrix(rnorm(30), nrow=5, ncol=6)\n",
        "X\n",
        "# Sum the values of each column with apply()\n"
      ],
      "execution_count": 4,
      "outputs": [
        {
          "output_type": "display_data",
          "data": {
            "text/plain": [
              "     [,1]       [,2]       [,3]        [,4]       [,5]       [,6]      \n",
              "[1,]  0.1271528  0.6529057  0.03981354  0.9211656 -0.3137772  0.6726673\n",
              "[2,] -0.6145678 -2.4306006  0.23420621 -0.6293952 -1.2454373  0.2692533\n",
              "[3,]  0.7335537  0.8488735 -1.14109469 -1.2421275 -0.2799103  2.5581358\n",
              "[4,]  0.8122884  1.1685773  1.30435511  0.1237334  0.2699520  0.5818267\n",
              "[5,] -0.3873321 -1.0181063 -1.96291594  0.1183374 -0.8887887 -1.4573786"
            ],
            "text/latex": "A matrix: 5 × 6 of type dbl\n\\begin{tabular}{llllll}\n\t  0.1271528 &  0.6529057 &  0.03981354 &  0.9211656 & -0.3137772 &  0.6726673\\\\\n\t -0.6145678 & -2.4306006 &  0.23420621 & -0.6293952 & -1.2454373 &  0.2692533\\\\\n\t  0.7335537 &  0.8488735 & -1.14109469 & -1.2421275 & -0.2799103 &  2.5581358\\\\\n\t  0.8122884 &  1.1685773 &  1.30435511 &  0.1237334 &  0.2699520 &  0.5818267\\\\\n\t -0.3873321 & -1.0181063 & -1.96291594 &  0.1183374 & -0.8887887 & -1.4573786\\\\\n\\end{tabular}\n",
            "text/markdown": "\nA matrix: 5 × 6 of type dbl\n\n|  0.1271528 |  0.6529057 |  0.03981354 |  0.9211656 | -0.3137772 |  0.6726673 |\n| -0.6145678 | -2.4306006 |  0.23420621 | -0.6293952 | -1.2454373 |  0.2692533 |\n|  0.7335537 |  0.8488735 | -1.14109469 | -1.2421275 | -0.2799103 |  2.5581358 |\n|  0.8122884 |  1.1685773 |  1.30435511 |  0.1237334 |  0.2699520 |  0.5818267 |\n| -0.3873321 | -1.0181063 | -1.96291594 |  0.1183374 | -0.8887887 | -1.4573786 |\n\n",
            "text/html": [
              "<table class=\"dataframe\">\n",
              "<caption>A matrix: 5 × 6 of type dbl</caption>\n",
              "<tbody>\n",
              "\t<tr><td> 0.1271528</td><td> 0.6529057</td><td> 0.03981354</td><td> 0.9211656</td><td>-0.3137772</td><td> 0.6726673</td></tr>\n",
              "\t<tr><td>-0.6145678</td><td>-2.4306006</td><td> 0.23420621</td><td>-0.6293952</td><td>-1.2454373</td><td> 0.2692533</td></tr>\n",
              "\t<tr><td> 0.7335537</td><td> 0.8488735</td><td>-1.14109469</td><td>-1.2421275</td><td>-0.2799103</td><td> 2.5581358</td></tr>\n",
              "\t<tr><td> 0.8122884</td><td> 1.1685773</td><td> 1.30435511</td><td> 0.1237334</td><td> 0.2699520</td><td> 0.5818267</td></tr>\n",
              "\t<tr><td>-0.3873321</td><td>-1.0181063</td><td>-1.96291594</td><td> 0.1183374</td><td>-0.8887887</td><td>-1.4573786</td></tr>\n",
              "</tbody>\n",
              "</table>\n"
            ]
          },
          "metadata": {
            "tags": []
          }
        }
      ]
    },
    {
      "cell_type": "markdown",
      "metadata": {
        "id": "c8gOYmFjf3lO"
      },
      "source": [
        "The **lapply()** Function is used when You want to apply a given function to every element of a list and obtain a list as a result.\n",
        " \n",
        " Syntax of **lapply()** looks like the **apply()** function.\n",
        "\n",
        "There is a slight difference in way they work, which is :\n",
        "\n",
        "\n",
        "\n",
        "1.   **lapply()** can be used for other objects like dataframes, lists or vectors\n",
        "2.   The output returned by **lapply()** is a list (which explains the “l” in the function name), which has the same number of elements as the object passed to it.\n",
        "\n",
        "To see how this works, complete the following code block.\n",
        "\n",
        "**lapply()** is a quite common operation performed on real data when making comparisons or aggregations from different dataframes.\n"
      ]
    },
    {
      "cell_type": "code",
      "metadata": {
        "id": "CbwaRO2ChyfV",
        "colab": {
          "base_uri": "https://localhost:8080/",
          "height": 156
        },
        "outputId": "e94d142c-8bc9-42a1-de0f-eb011c9fff75"
      },
      "source": [
        "# Using sequence 1:9 create a matrix A with size 3*3\n",
        "A <- matrix(1:9, nrow=3, ncol=3)\n",
        "A\n",
        "\n",
        "\n",
        "\n",
        "\n",
        "\n",
        "\n",
        "\n",
        "\n",
        "\n",
        "\n",
        "\n",
        "\n",
        "\n",
        "\n",
        "\n"
      ],
      "execution_count": 5,
      "outputs": [
        {
          "output_type": "display_data",
          "data": {
            "text/plain": [
              "     [,1] [,2] [,3]\n",
              "[1,] 1    4    7   \n",
              "[2,] 2    5    8   \n",
              "[3,] 3    6    9   "
            ],
            "text/latex": "A matrix: 3 × 3 of type int\n\\begin{tabular}{lll}\n\t 1 & 4 & 7\\\\\n\t 2 & 5 & 8\\\\\n\t 3 & 6 & 9\\\\\n\\end{tabular}\n",
            "text/markdown": "\nA matrix: 3 × 3 of type int\n\n| 1 | 4 | 7 |\n| 2 | 5 | 8 |\n| 3 | 6 | 9 |\n\n",
            "text/html": [
              "<table class=\"dataframe\">\n",
              "<caption>A matrix: 3 × 3 of type int</caption>\n",
              "<tbody>\n",
              "\t<tr><td>1</td><td>4</td><td>7</td></tr>\n",
              "\t<tr><td>2</td><td>5</td><td>8</td></tr>\n",
              "\t<tr><td>3</td><td>6</td><td>9</td></tr>\n",
              "</tbody>\n",
              "</table>\n"
            ]
          },
          "metadata": {
            "tags": []
          }
        }
      ]
    },
    {
      "cell_type": "code",
      "metadata": {
        "colab": {
          "base_uri": "https://localhost:8080/",
          "height": 169
        },
        "id": "dQ1WE4f58CLp",
        "outputId": "b4440754-2a07-4178-9fb1-52a1dbe5e274"
      },
      "source": [
        "#Using sequence 4:15 create a matrix B with size 4*3\n",
        "B <- matrix(4:15, nrow=4, ncol=3)\n",
        "B"
      ],
      "execution_count": 6,
      "outputs": [
        {
          "output_type": "display_data",
          "data": {
            "text/plain": [
              "     [,1] [,2] [,3]\n",
              "[1,] 4     8   12  \n",
              "[2,] 5     9   13  \n",
              "[3,] 6    10   14  \n",
              "[4,] 7    11   15  "
            ],
            "text/latex": "A matrix: 4 × 3 of type int\n\\begin{tabular}{lll}\n\t 4 &  8 & 12\\\\\n\t 5 &  9 & 13\\\\\n\t 6 & 10 & 14\\\\\n\t 7 & 11 & 15\\\\\n\\end{tabular}\n",
            "text/markdown": "\nA matrix: 4 × 3 of type int\n\n| 4 |  8 | 12 |\n| 5 |  9 | 13 |\n| 6 | 10 | 14 |\n| 7 | 11 | 15 |\n\n",
            "text/html": [
              "<table class=\"dataframe\">\n",
              "<caption>A matrix: 4 × 3 of type int</caption>\n",
              "<tbody>\n",
              "\t<tr><td>4</td><td> 8</td><td>12</td></tr>\n",
              "\t<tr><td>5</td><td> 9</td><td>13</td></tr>\n",
              "\t<tr><td>6</td><td>10</td><td>14</td></tr>\n",
              "\t<tr><td>7</td><td>11</td><td>15</td></tr>\n",
              "</tbody>\n",
              "</table>\n"
            ]
          },
          "metadata": {
            "tags": []
          }
        }
      ]
    },
    {
      "cell_type": "code",
      "metadata": {
        "colab": {
          "base_uri": "https://localhost:8080/",
          "height": 156
        },
        "id": "MBhpSsyr8K4m",
        "outputId": "0a717577-82c8-44c2-e2e9-216653af2fb9"
      },
      "source": [
        "#Using sequnce 8:10 create a matrix C with size 3*2\n",
        "C <- matrix(8:10, nrow=3, ncol=2)\n",
        "C"
      ],
      "execution_count": 7,
      "outputs": [
        {
          "output_type": "display_data",
          "data": {
            "text/plain": [
              "     [,1] [,2]\n",
              "[1,]  8    8  \n",
              "[2,]  9    9  \n",
              "[3,] 10   10  "
            ],
            "text/latex": "A matrix: 3 × 2 of type int\n\\begin{tabular}{ll}\n\t  8 &  8\\\\\n\t  9 &  9\\\\\n\t 10 & 10\\\\\n\\end{tabular}\n",
            "text/markdown": "\nA matrix: 3 × 2 of type int\n\n|  8 |  8 |\n|  9 |  9 |\n| 10 | 10 |\n\n",
            "text/html": [
              "<table class=\"dataframe\">\n",
              "<caption>A matrix: 3 × 2 of type int</caption>\n",
              "<tbody>\n",
              "\t<tr><td> 8</td><td> 8</td></tr>\n",
              "\t<tr><td> 9</td><td> 9</td></tr>\n",
              "\t<tr><td>10</td><td>10</td></tr>\n",
              "</tbody>\n",
              "</table>\n"
            ]
          },
          "metadata": {
            "tags": []
          }
        }
      ]
    },
    {
      "cell_type": "code",
      "metadata": {
        "colab": {
          "base_uri": "https://localhost:8080/",
          "height": 475
        },
        "id": "DPada-N08UeZ",
        "outputId": "acc24951-60b1-4838-9da8-8d77d5f7731d"
      },
      "source": [
        "# create variable MyList as list of matrix A, B, C\n",
        "MyList <- list(A, B, C)\n",
        "MyList"
      ],
      "execution_count": 8,
      "outputs": [
        {
          "output_type": "display_data",
          "data": {
            "text/plain": [
              "[[1]]\n",
              "     [,1] [,2] [,3]\n",
              "[1,]    1    4    7\n",
              "[2,]    2    5    8\n",
              "[3,]    3    6    9\n",
              "\n",
              "[[2]]\n",
              "     [,1] [,2] [,3]\n",
              "[1,]    4    8   12\n",
              "[2,]    5    9   13\n",
              "[3,]    6   10   14\n",
              "[4,]    7   11   15\n",
              "\n",
              "[[3]]\n",
              "     [,1] [,2]\n",
              "[1,]    8    8\n",
              "[2,]    9    9\n",
              "[3,]   10   10\n"
            ],
            "text/latex": "\\begin{enumerate}\n\\item A matrix: 3 × 3 of type int\n\\begin{tabular}{lll}\n\t 1 & 4 & 7\\\\\n\t 2 & 5 & 8\\\\\n\t 3 & 6 & 9\\\\\n\\end{tabular}\n\n\\item A matrix: 4 × 3 of type int\n\\begin{tabular}{lll}\n\t 4 &  8 & 12\\\\\n\t 5 &  9 & 13\\\\\n\t 6 & 10 & 14\\\\\n\t 7 & 11 & 15\\\\\n\\end{tabular}\n\n\\item A matrix: 3 × 2 of type int\n\\begin{tabular}{ll}\n\t  8 &  8\\\\\n\t  9 &  9\\\\\n\t 10 & 10\\\\\n\\end{tabular}\n\n\\end{enumerate}\n",
            "text/markdown": "1. \nA matrix: 3 × 3 of type int\n\n| 1 | 4 | 7 |\n| 2 | 5 | 8 |\n| 3 | 6 | 9 |\n\n\n2. \nA matrix: 4 × 3 of type int\n\n| 4 |  8 | 12 |\n| 5 |  9 | 13 |\n| 6 | 10 | 14 |\n| 7 | 11 | 15 |\n\n\n3. \nA matrix: 3 × 2 of type int\n\n|  8 |  8 |\n|  9 |  9 |\n| 10 | 10 |\n\n\n\n\n",
            "text/html": [
              "<ol>\n",
              "\t<li><table class=\"dataframe\">\n",
              "<caption>A matrix: 3 × 3 of type int</caption>\n",
              "<tbody>\n",
              "\t<tr><td>1</td><td>4</td><td>7</td></tr>\n",
              "\t<tr><td>2</td><td>5</td><td>8</td></tr>\n",
              "\t<tr><td>3</td><td>6</td><td>9</td></tr>\n",
              "</tbody>\n",
              "</table>\n",
              "</li>\n",
              "\t<li><table class=\"dataframe\">\n",
              "<caption>A matrix: 4 × 3 of type int</caption>\n",
              "<tbody>\n",
              "\t<tr><td>4</td><td> 8</td><td>12</td></tr>\n",
              "\t<tr><td>5</td><td> 9</td><td>13</td></tr>\n",
              "\t<tr><td>6</td><td>10</td><td>14</td></tr>\n",
              "\t<tr><td>7</td><td>11</td><td>15</td></tr>\n",
              "</tbody>\n",
              "</table>\n",
              "</li>\n",
              "\t<li><table class=\"dataframe\">\n",
              "<caption>A matrix: 3 × 2 of type int</caption>\n",
              "<tbody>\n",
              "\t<tr><td> 8</td><td> 8</td></tr>\n",
              "\t<tr><td> 9</td><td> 9</td></tr>\n",
              "\t<tr><td>10</td><td>10</td></tr>\n",
              "</tbody>\n",
              "</table>\n",
              "</li>\n",
              "</ol>\n"
            ]
          },
          "metadata": {
            "tags": []
          }
        }
      ]
    },
    {
      "cell_type": "code",
      "metadata": {
        "colab": {
          "base_uri": "https://localhost:8080/",
          "height": 95
        },
        "id": "B_Men_pf8cNZ",
        "outputId": "60230a03-cc4b-4b1d-80c9-250a05ddbc50"
      },
      "source": [
        "# Using lapply and [ operator Extract the 2nd column from `MyList` with the selection operator `[` with `lapply()`\n",
        "lapply(MyList, '[', , 2)"
      ],
      "execution_count": 9,
      "outputs": [
        {
          "output_type": "display_data",
          "data": {
            "text/plain": [
              "[[1]]\n",
              "[1] 4 5 6\n",
              "\n",
              "[[2]]\n",
              "[1]  8  9 10 11\n",
              "\n",
              "[[3]]\n",
              "[1]  8  9 10\n"
            ],
            "text/latex": "\\begin{enumerate}\n\\item \\begin{enumerate*}\n\\item 4\n\\item 5\n\\item 6\n\\end{enumerate*}\n\n\\item \\begin{enumerate*}\n\\item 8\n\\item 9\n\\item 10\n\\item 11\n\\end{enumerate*}\n\n\\item \\begin{enumerate*}\n\\item 8\n\\item 9\n\\item 10\n\\end{enumerate*}\n\n\\end{enumerate}\n",
            "text/markdown": "1. 1. 4\n2. 5\n3. 6\n\n\n\n2. 1. 8\n2. 9\n3. 10\n4. 11\n\n\n\n3. 1. 8\n2. 9\n3. 10\n\n\n\n\n\n",
            "text/html": [
              "<ol>\n",
              "\t<li><style>\n",
              ".list-inline {list-style: none; margin:0; padding: 0}\n",
              ".list-inline>li {display: inline-block}\n",
              ".list-inline>li:not(:last-child)::after {content: \"\\00b7\"; padding: 0 .5ex}\n",
              "</style>\n",
              "<ol class=list-inline><li>4</li><li>5</li><li>6</li></ol>\n",
              "</li>\n",
              "\t<li><style>\n",
              ".list-inline {list-style: none; margin:0; padding: 0}\n",
              ".list-inline>li {display: inline-block}\n",
              ".list-inline>li:not(:last-child)::after {content: \"\\00b7\"; padding: 0 .5ex}\n",
              "</style>\n",
              "<ol class=list-inline><li>8</li><li>9</li><li>10</li><li>11</li></ol>\n",
              "</li>\n",
              "\t<li><style>\n",
              ".list-inline {list-style: none; margin:0; padding: 0}\n",
              ".list-inline>li {display: inline-block}\n",
              ".list-inline>li:not(:last-child)::after {content: \"\\00b7\"; padding: 0 .5ex}\n",
              "</style>\n",
              "<ol class=list-inline><li>8</li><li>9</li><li>10</li></ol>\n",
              "</li>\n",
              "</ol>\n"
            ]
          },
          "metadata": {
            "tags": []
          }
        }
      ]
    },
    {
      "cell_type": "code",
      "metadata": {
        "colab": {
          "base_uri": "https://localhost:8080/",
          "height": 95
        },
        "id": "MCgyea059HC5",
        "outputId": "3256f859-6714-433e-fb29-42a32759bb4a"
      },
      "source": [
        "# Using lapply and [ operator Extract the 4th row from `MyList` with the selection operator `[` with `lapply()\n",
        "lapply(MyList,\"[\", , 2)"
      ],
      "execution_count": 10,
      "outputs": [
        {
          "output_type": "display_data",
          "data": {
            "text/plain": [
              "[[1]]\n",
              "[1] 4 5 6\n",
              "\n",
              "[[2]]\n",
              "[1]  8  9 10 11\n",
              "\n",
              "[[3]]\n",
              "[1]  8  9 10\n"
            ],
            "text/latex": "\\begin{enumerate}\n\\item \\begin{enumerate*}\n\\item 4\n\\item 5\n\\item 6\n\\end{enumerate*}\n\n\\item \\begin{enumerate*}\n\\item 8\n\\item 9\n\\item 10\n\\item 11\n\\end{enumerate*}\n\n\\item \\begin{enumerate*}\n\\item 8\n\\item 9\n\\item 10\n\\end{enumerate*}\n\n\\end{enumerate}\n",
            "text/markdown": "1. 1. 4\n2. 5\n3. 6\n\n\n\n2. 1. 8\n2. 9\n3. 10\n4. 11\n\n\n\n3. 1. 8\n2. 9\n3. 10\n\n\n\n\n\n",
            "text/html": [
              "<ol>\n",
              "\t<li><style>\n",
              ".list-inline {list-style: none; margin:0; padding: 0}\n",
              ".list-inline>li {display: inline-block}\n",
              ".list-inline>li:not(:last-child)::after {content: \"\\00b7\"; padding: 0 .5ex}\n",
              "</style>\n",
              "<ol class=list-inline><li>4</li><li>5</li><li>6</li></ol>\n",
              "</li>\n",
              "\t<li><style>\n",
              ".list-inline {list-style: none; margin:0; padding: 0}\n",
              ".list-inline>li {display: inline-block}\n",
              ".list-inline>li:not(:last-child)::after {content: \"\\00b7\"; padding: 0 .5ex}\n",
              "</style>\n",
              "<ol class=list-inline><li>8</li><li>9</li><li>10</li><li>11</li></ol>\n",
              "</li>\n",
              "\t<li><style>\n",
              ".list-inline {list-style: none; margin:0; padding: 0}\n",
              ".list-inline>li {display: inline-block}\n",
              ".list-inline>li:not(:last-child)::after {content: \"\\00b7\"; padding: 0 .5ex}\n",
              "</style>\n",
              "<ol class=list-inline><li>8</li><li>9</li><li>10</li></ol>\n",
              "</li>\n",
              "</ol>\n"
            ]
          },
          "metadata": {
            "tags": []
          }
        }
      ]
    },
    {
      "cell_type": "markdown",
      "metadata": {
        "id": "Oi6xUIxu9gcl"
      },
      "source": [
        "\n",
        "My list has only 3 rows in Matrix A & C .."
      ]
    },
    {
      "cell_type": "code",
      "metadata": {
        "colab": {
          "base_uri": "https://localhost:8080/",
          "height": 95
        },
        "id": "ez8oyFga97nC",
        "outputId": "a7fcebaf-e5cd-48ed-e962-64ad71e20f11"
      },
      "source": [
        "# Using lapply and [ operator Extract the 1st row from `MyList` with the selection operator `[` with `lapply()`\n",
        "lapply(MyList,\"[\", 1, )"
      ],
      "execution_count": 11,
      "outputs": [
        {
          "output_type": "display_data",
          "data": {
            "text/plain": [
              "[[1]]\n",
              "[1] 1 4 7\n",
              "\n",
              "[[2]]\n",
              "[1]  4  8 12\n",
              "\n",
              "[[3]]\n",
              "[1] 8 8\n"
            ],
            "text/latex": "\\begin{enumerate}\n\\item \\begin{enumerate*}\n\\item 1\n\\item 4\n\\item 7\n\\end{enumerate*}\n\n\\item \\begin{enumerate*}\n\\item 4\n\\item 8\n\\item 12\n\\end{enumerate*}\n\n\\item \\begin{enumerate*}\n\\item 8\n\\item 8\n\\end{enumerate*}\n\n\\end{enumerate}\n",
            "text/markdown": "1. 1. 1\n2. 4\n3. 7\n\n\n\n2. 1. 4\n2. 8\n3. 12\n\n\n\n3. 1. 8\n2. 8\n\n\n\n\n\n",
            "text/html": [
              "<ol>\n",
              "\t<li><style>\n",
              ".list-inline {list-style: none; margin:0; padding: 0}\n",
              ".list-inline>li {display: inline-block}\n",
              ".list-inline>li:not(:last-child)::after {content: \"\\00b7\"; padding: 0 .5ex}\n",
              "</style>\n",
              "<ol class=list-inline><li>1</li><li>4</li><li>7</li></ol>\n",
              "</li>\n",
              "\t<li><style>\n",
              ".list-inline {list-style: none; margin:0; padding: 0}\n",
              ".list-inline>li {display: inline-block}\n",
              ".list-inline>li:not(:last-child)::after {content: \"\\00b7\"; padding: 0 .5ex}\n",
              "</style>\n",
              "<ol class=list-inline><li>4</li><li>8</li><li>12</li></ol>\n",
              "</li>\n",
              "\t<li><style>\n",
              ".list-inline {list-style: none; margin:0; padding: 0}\n",
              ".list-inline>li {display: inline-block}\n",
              ".list-inline>li:not(:last-child)::after {content: \"\\00b7\"; padding: 0 .5ex}\n",
              "</style>\n",
              "<ol class=list-inline><li>8</li><li>8</li></ol>\n",
              "</li>\n",
              "</ol>\n"
            ]
          },
          "metadata": {
            "tags": []
          }
        }
      ]
    },
    {
      "cell_type": "markdown",
      "metadata": {
        "id": "G0kWHtRVjDjw"
      },
      "source": [
        "The **sapply()** Function\n",
        "\n",
        "The **sapply()** function works like **lapply()**, but it tries to simplify the output to the most elementary data structure that is possible. And indeed, ```sapply()``` is a **‘wrapper’** function for **lapply()**.\n",
        "\n",
        "Let’s repeat the extraction operation of a single element as in the last example, but now take the first element of the second row (indexes 2 and 1) for each matrix.\n",
        "\n",
        "Applying the **lapply()** function would give us a list unless you pass ```simplify=FALSE``` as a parameter to **sapply()**. Then, a list will be returned. See how it works in the code chunk below:\n",
        "\n"
      ]
    },
    {
      "cell_type": "code",
      "metadata": {
        "id": "RxXnDh47jiBF",
        "colab": {
          "base_uri": "https://localhost:8080/",
          "height": 207
        },
        "outputId": "1c2a03f3-bd23-408c-b1aa-9c92b69d3ebb"
      },
      "source": [
        "# Return a list with `lapply()`\n",
        "lapply(MyList,\"[\", 2, 1 )\n",
        "\n",
        "# Return a vector with `sapply()`\n",
        "sapply(MyList,\"[\", 2, 1 )\n",
        "\n",
        "# Return a list with `sapply()`\n",
        "sapply(MyList,\"[\", 2, 1, simplify=F)\n",
        "\n",
        "# Return a vector with `unlist()`\n",
        "unlist(lapply(MyList,\"[\", 2, 1 ))"
      ],
      "execution_count": 12,
      "outputs": [
        {
          "output_type": "display_data",
          "data": {
            "text/plain": [
              "[[1]]\n",
              "[1] 2\n",
              "\n",
              "[[2]]\n",
              "[1] 5\n",
              "\n",
              "[[3]]\n",
              "[1] 9\n"
            ],
            "text/latex": "\\begin{enumerate}\n\\item 2\n\\item 5\n\\item 9\n\\end{enumerate}\n",
            "text/markdown": "1. 2\n2. 5\n3. 9\n\n\n",
            "text/html": [
              "<ol>\n",
              "\t<li>2</li>\n",
              "\t<li>5</li>\n",
              "\t<li>9</li>\n",
              "</ol>\n"
            ]
          },
          "metadata": {
            "tags": []
          }
        },
        {
          "output_type": "display_data",
          "data": {
            "text/plain": [
              "[1] 2 5 9"
            ],
            "text/latex": "\\begin{enumerate*}\n\\item 2\n\\item 5\n\\item 9\n\\end{enumerate*}\n",
            "text/markdown": "1. 2\n2. 5\n3. 9\n\n\n",
            "text/html": [
              "<style>\n",
              ".list-inline {list-style: none; margin:0; padding: 0}\n",
              ".list-inline>li {display: inline-block}\n",
              ".list-inline>li:not(:last-child)::after {content: \"\\00b7\"; padding: 0 .5ex}\n",
              "</style>\n",
              "<ol class=list-inline><li>2</li><li>5</li><li>9</li></ol>\n"
            ]
          },
          "metadata": {
            "tags": []
          }
        },
        {
          "output_type": "display_data",
          "data": {
            "text/plain": [
              "[[1]]\n",
              "[1] 2\n",
              "\n",
              "[[2]]\n",
              "[1] 5\n",
              "\n",
              "[[3]]\n",
              "[1] 9\n"
            ],
            "text/latex": "\\begin{enumerate}\n\\item 2\n\\item 5\n\\item 9\n\\end{enumerate}\n",
            "text/markdown": "1. 2\n2. 5\n3. 9\n\n\n",
            "text/html": [
              "<ol>\n",
              "\t<li>2</li>\n",
              "\t<li>5</li>\n",
              "\t<li>9</li>\n",
              "</ol>\n"
            ]
          },
          "metadata": {
            "tags": []
          }
        },
        {
          "output_type": "display_data",
          "data": {
            "text/plain": [
              "[1] 2 5 9"
            ],
            "text/latex": "\\begin{enumerate*}\n\\item 2\n\\item 5\n\\item 9\n\\end{enumerate*}\n",
            "text/markdown": "1. 2\n2. 5\n3. 9\n\n\n",
            "text/html": [
              "<style>\n",
              ".list-inline {list-style: none; margin:0; padding: 0}\n",
              ".list-inline>li {display: inline-block}\n",
              ".list-inline>li:not(:last-child)::after {content: \"\\00b7\"; padding: 0 .5ex}\n",
              "</style>\n",
              "<ol class=list-inline><li>2</li><li>5</li><li>9</li></ol>\n"
            ]
          },
          "metadata": {
            "tags": []
          }
        }
      ]
    },
    {
      "cell_type": "markdown",
      "metadata": {
        "id": "WuuRcW03kJyA"
      },
      "source": [
        "In this Text Block Write note on mapply function and give exampe code and exaplain use of mapply function.\n",
        "\n",
        "1.  \n"
      ]
    },
    {
      "cell_type": "code",
      "metadata": {
        "id": "pos2C33ujiEh"
      },
      "source": [
        "# Example use of mapply function\n"
      ],
      "execution_count": 13,
      "outputs": []
    },
    {
      "cell_type": "code",
      "metadata": {
        "colab": {
          "base_uri": "https://localhost:8080/",
          "height": 196
        },
        "id": "y3kMDhzP_r0g",
        "outputId": "d2842198-281d-4c06-96b7-8673137a9a7d"
      },
      "source": [
        "#Example 1\n",
        "\n",
        "#In this example, 1:9 is specifying the value to repeat, and 9:1 is specifying how many times to repeat. This order is based on the order of arguments in the rep function itself.\n",
        "mapply(rep, 1:9, 9:1)"
      ],
      "execution_count": 14,
      "outputs": [
        {
          "output_type": "display_data",
          "data": {
            "text/plain": [
              "[[1]]\n",
              "[1] 1 1 1 1 1 1 1 1 1\n",
              "\n",
              "[[2]]\n",
              "[1] 2 2 2 2 2 2 2 2\n",
              "\n",
              "[[3]]\n",
              "[1] 3 3 3 3 3 3 3\n",
              "\n",
              "[[4]]\n",
              "[1] 4 4 4 4 4 4\n",
              "\n",
              "[[5]]\n",
              "[1] 5 5 5 5 5\n",
              "\n",
              "[[6]]\n",
              "[1] 6 6 6 6\n",
              "\n",
              "[[7]]\n",
              "[1] 7 7 7\n",
              "\n",
              "[[8]]\n",
              "[1] 8 8\n",
              "\n",
              "[[9]]\n",
              "[1] 9\n"
            ],
            "text/latex": "\\begin{enumerate}\n\\item \\begin{enumerate*}\n\\item 1\n\\item 1\n\\item 1\n\\item 1\n\\item 1\n\\item 1\n\\item 1\n\\item 1\n\\item 1\n\\end{enumerate*}\n\n\\item \\begin{enumerate*}\n\\item 2\n\\item 2\n\\item 2\n\\item 2\n\\item 2\n\\item 2\n\\item 2\n\\item 2\n\\end{enumerate*}\n\n\\item \\begin{enumerate*}\n\\item 3\n\\item 3\n\\item 3\n\\item 3\n\\item 3\n\\item 3\n\\item 3\n\\end{enumerate*}\n\n\\item \\begin{enumerate*}\n\\item 4\n\\item 4\n\\item 4\n\\item 4\n\\item 4\n\\item 4\n\\end{enumerate*}\n\n\\item \\begin{enumerate*}\n\\item 5\n\\item 5\n\\item 5\n\\item 5\n\\item 5\n\\end{enumerate*}\n\n\\item \\begin{enumerate*}\n\\item 6\n\\item 6\n\\item 6\n\\item 6\n\\end{enumerate*}\n\n\\item \\begin{enumerate*}\n\\item 7\n\\item 7\n\\item 7\n\\end{enumerate*}\n\n\\item \\begin{enumerate*}\n\\item 8\n\\item 8\n\\end{enumerate*}\n\n\\item 9\n\\end{enumerate}\n",
            "text/markdown": "1. 1. 1\n2. 1\n3. 1\n4. 1\n5. 1\n6. 1\n7. 1\n8. 1\n9. 1\n\n\n\n2. 1. 2\n2. 2\n3. 2\n4. 2\n5. 2\n6. 2\n7. 2\n8. 2\n\n\n\n3. 1. 3\n2. 3\n3. 3\n4. 3\n5. 3\n6. 3\n7. 3\n\n\n\n4. 1. 4\n2. 4\n3. 4\n4. 4\n5. 4\n6. 4\n\n\n\n5. 1. 5\n2. 5\n3. 5\n4. 5\n5. 5\n\n\n\n6. 1. 6\n2. 6\n3. 6\n4. 6\n\n\n\n7. 1. 7\n2. 7\n3. 7\n\n\n\n8. 1. 8\n2. 8\n\n\n\n9. 9\n\n\n",
            "text/html": [
              "<ol>\n",
              "\t<li><style>\n",
              ".list-inline {list-style: none; margin:0; padding: 0}\n",
              ".list-inline>li {display: inline-block}\n",
              ".list-inline>li:not(:last-child)::after {content: \"\\00b7\"; padding: 0 .5ex}\n",
              "</style>\n",
              "<ol class=list-inline><li>1</li><li>1</li><li>1</li><li>1</li><li>1</li><li>1</li><li>1</li><li>1</li><li>1</li></ol>\n",
              "</li>\n",
              "\t<li><style>\n",
              ".list-inline {list-style: none; margin:0; padding: 0}\n",
              ".list-inline>li {display: inline-block}\n",
              ".list-inline>li:not(:last-child)::after {content: \"\\00b7\"; padding: 0 .5ex}\n",
              "</style>\n",
              "<ol class=list-inline><li>2</li><li>2</li><li>2</li><li>2</li><li>2</li><li>2</li><li>2</li><li>2</li></ol>\n",
              "</li>\n",
              "\t<li><style>\n",
              ".list-inline {list-style: none; margin:0; padding: 0}\n",
              ".list-inline>li {display: inline-block}\n",
              ".list-inline>li:not(:last-child)::after {content: \"\\00b7\"; padding: 0 .5ex}\n",
              "</style>\n",
              "<ol class=list-inline><li>3</li><li>3</li><li>3</li><li>3</li><li>3</li><li>3</li><li>3</li></ol>\n",
              "</li>\n",
              "\t<li><style>\n",
              ".list-inline {list-style: none; margin:0; padding: 0}\n",
              ".list-inline>li {display: inline-block}\n",
              ".list-inline>li:not(:last-child)::after {content: \"\\00b7\"; padding: 0 .5ex}\n",
              "</style>\n",
              "<ol class=list-inline><li>4</li><li>4</li><li>4</li><li>4</li><li>4</li><li>4</li></ol>\n",
              "</li>\n",
              "\t<li><style>\n",
              ".list-inline {list-style: none; margin:0; padding: 0}\n",
              ".list-inline>li {display: inline-block}\n",
              ".list-inline>li:not(:last-child)::after {content: \"\\00b7\"; padding: 0 .5ex}\n",
              "</style>\n",
              "<ol class=list-inline><li>5</li><li>5</li><li>5</li><li>5</li><li>5</li></ol>\n",
              "</li>\n",
              "\t<li><style>\n",
              ".list-inline {list-style: none; margin:0; padding: 0}\n",
              ".list-inline>li {display: inline-block}\n",
              ".list-inline>li:not(:last-child)::after {content: \"\\00b7\"; padding: 0 .5ex}\n",
              "</style>\n",
              "<ol class=list-inline><li>6</li><li>6</li><li>6</li><li>6</li></ol>\n",
              "</li>\n",
              "\t<li><style>\n",
              ".list-inline {list-style: none; margin:0; padding: 0}\n",
              ".list-inline>li {display: inline-block}\n",
              ".list-inline>li:not(:last-child)::after {content: \"\\00b7\"; padding: 0 .5ex}\n",
              "</style>\n",
              "<ol class=list-inline><li>7</li><li>7</li><li>7</li></ol>\n",
              "</li>\n",
              "\t<li><style>\n",
              ".list-inline {list-style: none; margin:0; padding: 0}\n",
              ".list-inline>li {display: inline-block}\n",
              ".list-inline>li:not(:last-child)::after {content: \"\\00b7\"; padding: 0 .5ex}\n",
              "</style>\n",
              "<ol class=list-inline><li>8</li><li>8</li></ol>\n",
              "</li>\n",
              "\t<li>9</li>\n",
              "</ol>\n"
            ]
          },
          "metadata": {
            "tags": []
          }
        }
      ]
    },
    {
      "cell_type": "code",
      "metadata": {
        "colab": {
          "base_uri": "https://localhost:8080/",
          "height": 34
        },
        "id": "jQSahHJp_9Fh",
        "outputId": "4217344d-a250-4ba2-ad22-4f54d1069519"
      },
      "source": [
        "#Example 2\n",
        "#Another use for mapply would be to create a new variable. For example, using dataset t, I could divide one column by another column to create a new value. This would be useful for creating a ratio of two variables as shown in the example below.\n",
        "my.matrx <- matrix(c(1:10, 11:20, 21:30), nrow = 10, ncol = 3)\n",
        "tdata <- as.data.frame(cbind(c(1,1,1,1,1,2,2,2,2,2), my.matrx))\n",
        "\n",
        "tdata$V5<- mapply(function(x, y) x/y, tdata$V2, tdata$V4)\n",
        "tdata$V5\n"
      ],
      "execution_count": 15,
      "outputs": [
        {
          "output_type": "display_data",
          "data": {
            "text/plain": [
              " [1] 0.04761905 0.09090909 0.13043478 0.16666667 0.20000000 0.23076923\n",
              " [7] 0.25925926 0.28571429 0.31034483 0.33333333"
            ],
            "text/latex": "\\begin{enumerate*}\n\\item 0.0476190476190476\n\\item 0.0909090909090909\n\\item 0.130434782608696\n\\item 0.166666666666667\n\\item 0.2\n\\item 0.230769230769231\n\\item 0.259259259259259\n\\item 0.285714285714286\n\\item 0.310344827586207\n\\item 0.333333333333333\n\\end{enumerate*}\n",
            "text/markdown": "1. 0.0476190476190476\n2. 0.0909090909090909\n3. 0.130434782608696\n4. 0.166666666666667\n5. 0.2\n6. 0.230769230769231\n7. 0.259259259259259\n8. 0.285714285714286\n9. 0.310344827586207\n10. 0.333333333333333\n\n\n",
            "text/html": [
              "<style>\n",
              ".list-inline {list-style: none; margin:0; padding: 0}\n",
              ".list-inline>li {display: inline-block}\n",
              ".list-inline>li:not(:last-child)::after {content: \"\\00b7\"; padding: 0 .5ex}\n",
              "</style>\n",
              "<ol class=list-inline><li>0.0476190476190476</li><li>0.0909090909090909</li><li>0.130434782608696</li><li>0.166666666666667</li><li>0.2</li><li>0.230769230769231</li><li>0.259259259259259</li><li>0.285714285714286</li><li>0.310344827586207</li><li>0.333333333333333</li></ol>\n"
            ]
          },
          "metadata": {
            "tags": []
          }
        }
      ]
    },
    {
      "cell_type": "code",
      "metadata": {
        "colab": {
          "base_uri": "https://localhost:8080/",
          "height": 34
        },
        "id": "XFObdh_CAMUw",
        "outputId": "1d571f29-7f69-4e73-da1e-5d3c25d7b5c9"
      },
      "source": [
        "#Example 3\n",
        "#When using an apply family function to create a new variable, one option is to create a new vector ahead of time with the size of the vector pre-allocated. I created a numeric vector of length 10 using the vector function. The arguments for the vector function are vector(mode, length). Inside mapply I created a function to multiple two variables together. The results of the mapply function are then saved into the vector.\n",
        "new.vec <- vector(mode = \"numeric\", length = 10)\n",
        "new.vec <- mapply(function(x, y) x*y, tdata$V3, tdata$V4)\n",
        "new.vec"
      ],
      "execution_count": 16,
      "outputs": [
        {
          "output_type": "display_data",
          "data": {
            "text/plain": [
              " [1] 231 264 299 336 375 416 459 504 551 600"
            ],
            "text/latex": "\\begin{enumerate*}\n\\item 231\n\\item 264\n\\item 299\n\\item 336\n\\item 375\n\\item 416\n\\item 459\n\\item 504\n\\item 551\n\\item 600\n\\end{enumerate*}\n",
            "text/markdown": "1. 231\n2. 264\n3. 299\n4. 336\n5. 375\n6. 416\n7. 459\n8. 504\n9. 551\n10. 600\n\n\n",
            "text/html": [
              "<style>\n",
              ".list-inline {list-style: none; margin:0; padding: 0}\n",
              ".list-inline>li {display: inline-block}\n",
              ".list-inline>li:not(:last-child)::after {content: \"\\00b7\"; padding: 0 .5ex}\n",
              "</style>\n",
              "<ol class=list-inline><li>231</li><li>264</li><li>299</li><li>336</li><li>375</li><li>416</li><li>459</li><li>504</li><li>551</li><li>600</li></ol>\n"
            ]
          },
          "metadata": {
            "tags": []
          }
        }
      ]
    }
  ]
}
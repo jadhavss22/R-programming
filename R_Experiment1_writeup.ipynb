{
  "nbformat": 4,
  "nbformat_minor": 0,
  "metadata": {
    "colab": {
      "name": " R_Experiment1_writeup.ipynb",
      "provenance": [],
      "collapsed_sections": [],
      "include_colab_link": true
    },
    "kernelspec": {
      "name": "ir",
      "display_name": "R"
    }
  },
  "cells": [
    {
      "cell_type": "markdown",
      "metadata": {
        "id": "view-in-github",
        "colab_type": "text"
      },
      "source": [
        "<a href=\"https://colab.research.google.com/github/jadhavss22/R-programming/blob/main/R_Experiment1_writeup.ipynb\" target=\"_parent\"><img src=\"https://colab.research.google.com/assets/colab-badge.svg\" alt=\"Open In Colab\"/></a>"
      ]
    },
    {
      "cell_type": "markdown",
      "metadata": {
        "id": "ID8ytqkhyQUI"
      },
      "source": [
        "**Basics of R Programming**\n",
        "\n",
        "Let us learn basic building blocks of the R programming language.\n",
        "\n",
        "In most comman way R can be though as an interactive calculator.\n",
        "\n",
        "Try executing following code block\n"
      ]
    },
    {
      "cell_type": "code",
      "metadata": {
        "colab": {
          "base_uri": "https://localhost:8080/",
          "height": 34
        },
        "id": "laFgRgayS6Yq",
        "outputId": "0dcc3353-7bca-4181-983d-8a03dd51be65"
      },
      "source": [
        "#Code cell\n",
        "5*7"
      ],
      "execution_count": 32,
      "outputs": [
        {
          "output_type": "display_data",
          "data": {
            "text/plain": [
              "[1] 35"
            ],
            "text/latex": "35",
            "text/markdown": "35",
            "text/html": [
              "35"
            ]
          },
          "metadata": {
            "tags": []
          }
        }
      ]
    },
    {
      "cell_type": "code",
      "metadata": {
        "colab": {
          "base_uri": "https://localhost:8080/",
          "height": 34
        },
        "id": "_ToRK7PP16VG",
        "outputId": "a7f66095-c910-4509-f89f-6d9ce1d17a10"
      },
      "source": [
        "typeof(12)"
      ],
      "execution_count": 33,
      "outputs": [
        {
          "output_type": "display_data",
          "data": {
            "text/plain": [
              "[1] \"double\""
            ],
            "text/latex": "'double'",
            "text/markdown": "'double'",
            "text/html": [
              "'double'"
            ]
          },
          "metadata": {
            "tags": []
          }
        }
      ]
    },
    {
      "cell_type": "markdown",
      "metadata": {
        "id": "dwkEL9UGTdDu"
      },
      "source": [
        " **Store computed value in a variable**\n",
        "\n",
        " The way you assign a value to a variable in R is by using the assignment operator, which is just a 'less than'symbol followed by a 'minus' sign. It looks like this: <-"
      ]
    },
    {
      "cell_type": "code",
      "metadata": {
        "id": "uoJ8DVxkT1cq",
        "colab": {
          "base_uri": "https://localhost:8080/",
          "height": 34
        },
        "outputId": "1387bbba-d4c1-4023-d640-c8b6ebad07d2"
      },
      "source": [
        "#Store result of 5+7 in varible c\n",
        "c<-5+8*6\n",
        "c"
      ],
      "execution_count": 34,
      "outputs": [
        {
          "output_type": "display_data",
          "data": {
            "text/plain": [
              "[1] 53"
            ],
            "text/latex": "53",
            "text/markdown": "53",
            "text/html": [
              "53"
            ]
          },
          "metadata": {
            "tags": []
          }
        }
      ]
    },
    {
      "cell_type": "code",
      "metadata": {
        "colab": {
          "base_uri": "https://localhost:8080/",
          "height": 34
        },
        "id": "51YX5Hh-13Fk",
        "outputId": "9905bc47-5c5e-4096-866d-e50905bbb3a7"
      },
      "source": [
        "typeof(c)"
      ],
      "execution_count": 35,
      "outputs": [
        {
          "output_type": "display_data",
          "data": {
            "text/plain": [
              "[1] \"double\""
            ],
            "text/latex": "'double'",
            "text/markdown": "'double'",
            "text/html": [
              "'double'"
            ]
          },
          "metadata": {
            "tags": []
          }
        }
      ]
    },
    {
      "cell_type": "markdown",
      "metadata": {
        "id": "J3OsGT5RV-8v"
      },
      "source": [
        "We can further use variable c in another exrpession to create variable b which is 1 excess that one fourth of value of c"
      ]
    },
    {
      "cell_type": "code",
      "metadata": {
        "colab": {
          "base_uri": "https://localhost:8080/",
          "height": 50
        },
        "id": "5jf2aI3KT1qj",
        "outputId": "9b4f03fb-39f1-4d7e-e509-7f11d3221edb"
      },
      "source": [
        "b<-c/4+1\n",
        "b \n",
        "d=c/4+1\n",
        "d"
      ],
      "execution_count": 36,
      "outputs": [
        {
          "output_type": "display_data",
          "data": {
            "text/plain": [
              "[1] 14.25"
            ],
            "text/latex": "14.25",
            "text/markdown": "14.25",
            "text/html": [
              "14.25"
            ]
          },
          "metadata": {
            "tags": []
          }
        },
        {
          "output_type": "display_data",
          "data": {
            "text/plain": [
              "[1] 14.25"
            ],
            "text/latex": "14.25",
            "text/markdown": "14.25",
            "text/html": [
              "14.25"
            ]
          },
          "metadata": {
            "tags": []
          }
        }
      ]
    },
    {
      "cell_type": "code",
      "metadata": {
        "colab": {
          "base_uri": "https://localhost:8080/",
          "height": 50
        },
        "id": "Ngf878ZR2GB6",
        "outputId": "c2864dcb-63c6-409e-aabc-166c341671f4"
      },
      "source": [
        "typeof(b)\n",
        "typeof(d)\n"
      ],
      "execution_count": 37,
      "outputs": [
        {
          "output_type": "display_data",
          "data": {
            "text/plain": [
              "[1] \"double\""
            ],
            "text/latex": "'double'",
            "text/markdown": "'double'",
            "text/html": [
              "'double'"
            ]
          },
          "metadata": {
            "tags": []
          }
        },
        {
          "output_type": "display_data",
          "data": {
            "text/plain": [
              "[1] \"double\""
            ],
            "text/latex": "'double'",
            "text/markdown": "'double'",
            "text/html": [
              "'double'"
            ]
          },
          "metadata": {
            "tags": []
          }
        }
      ]
    },
    {
      "cell_type": "markdown",
      "metadata": {
        "id": "1E01QTsy05p_"
      },
      "source": [
        "**Creation of Vector**\n",
        "\n",
        "The easiest way to create a vector is with the c() function, which stands for 'concatenate' or 'combine'. \n",
        "\n",
        " To create a vector containing the numbers 1.1, 9, and 3.14, type c(1.1, 9, 3.14). Try it now and store the result in a variable called z in following code block. "
      ]
    },
    {
      "cell_type": "code",
      "metadata": {
        "colab": {
          "base_uri": "https://localhost:8080/",
          "height": 50
        },
        "id": "Dgx9ap0OT12g",
        "outputId": "cbf7a677-5c5b-4a8b-f35c-ea7cb3d30e1f"
      },
      "source": [
        "z <- c(1.1, 9, 'dhg')\n",
        "z\n",
        "z1 <- c(1.1, 9, 5,566,4564.545646)\n",
        "z1\n"
      ],
      "execution_count": 38,
      "outputs": [
        {
          "output_type": "display_data",
          "data": {
            "text/plain": [
              "[1] \"1.1\" \"9\"   \"dhg\""
            ],
            "text/latex": "\\begin{enumerate*}\n\\item '1.1'\n\\item '9'\n\\item 'dhg'\n\\end{enumerate*}\n",
            "text/markdown": "1. '1.1'\n2. '9'\n3. 'dhg'\n\n\n",
            "text/html": [
              "<style>\n",
              ".list-inline {list-style: none; margin:0; padding: 0}\n",
              ".list-inline>li {display: inline-block}\n",
              ".list-inline>li:not(:last-child)::after {content: \"\\00b7\"; padding: 0 .5ex}\n",
              "</style>\n",
              "<ol class=list-inline><li>'1.1'</li><li>'9'</li><li>'dhg'</li></ol>\n"
            ]
          },
          "metadata": {
            "tags": []
          }
        },
        {
          "output_type": "display_data",
          "data": {
            "text/plain": [
              "[1]    1.100    9.000    5.000  566.000 4564.546"
            ],
            "text/latex": "\\begin{enumerate*}\n\\item 1.1\n\\item 9\n\\item 5\n\\item 566\n\\item 4564.545646\n\\end{enumerate*}\n",
            "text/markdown": "1. 1.1\n2. 9\n3. 5\n4. 566\n5. 4564.545646\n\n\n",
            "text/html": [
              "<style>\n",
              ".list-inline {list-style: none; margin:0; padding: 0}\n",
              ".list-inline>li {display: inline-block}\n",
              ".list-inline>li:not(:last-child)::after {content: \"\\00b7\"; padding: 0 .5ex}\n",
              "</style>\n",
              "<ol class=list-inline><li>1.1</li><li>9</li><li>5</li><li>566</li><li>4564.545646</li></ol>\n"
            ]
          },
          "metadata": {
            "tags": []
          }
        }
      ]
    },
    {
      "cell_type": "code",
      "metadata": {
        "colab": {
          "base_uri": "https://localhost:8080/",
          "height": 67
        },
        "id": "2WTysXG82Mnt",
        "outputId": "b79af5e8-c127-4608-b6c6-0a594f1b4c36"
      },
      "source": [
        "typeof(z)\n",
        "typeof(z1)\n",
        "class(z)"
      ],
      "execution_count": 39,
      "outputs": [
        {
          "output_type": "display_data",
          "data": {
            "text/plain": [
              "[1] \"character\""
            ],
            "text/latex": "'character'",
            "text/markdown": "'character'",
            "text/html": [
              "'character'"
            ]
          },
          "metadata": {
            "tags": []
          }
        },
        {
          "output_type": "display_data",
          "data": {
            "text/plain": [
              "[1] \"double\""
            ],
            "text/latex": "'double'",
            "text/markdown": "'double'",
            "text/html": [
              "'double'"
            ]
          },
          "metadata": {
            "tags": []
          }
        },
        {
          "output_type": "display_data",
          "data": {
            "text/plain": [
              "[1] \"character\""
            ],
            "text/latex": "'character'",
            "text/markdown": "'character'",
            "text/html": [
              "'character'"
            ]
          },
          "metadata": {
            "tags": []
          }
        }
      ]
    },
    {
      "cell_type": "code",
      "metadata": {
        "colab": {
          "base_uri": "https://localhost:8080/",
          "height": 34
        },
        "id": "-Xl8TbUC3AWV",
        "outputId": "c3accd5a-f25d-4acf-f7ed-feba2535bbab"
      },
      "source": [
        "z"
      ],
      "execution_count": 40,
      "outputs": [
        {
          "output_type": "display_data",
          "data": {
            "text/plain": [
              "[1] \"1.1\" \"9\"   \"dhg\""
            ],
            "text/latex": "\\begin{enumerate*}\n\\item '1.1'\n\\item '9'\n\\item 'dhg'\n\\end{enumerate*}\n",
            "text/markdown": "1. '1.1'\n2. '9'\n3. 'dhg'\n\n\n",
            "text/html": [
              "<style>\n",
              ".list-inline {list-style: none; margin:0; padding: 0}\n",
              ".list-inline>li {display: inline-block}\n",
              ".list-inline>li:not(:last-child)::after {content: \"\\00b7\"; padding: 0 .5ex}\n",
              "</style>\n",
              "<ol class=list-inline><li>'1.1'</li><li>'9'</li><li>'dhg'</li></ol>\n"
            ]
          },
          "metadata": {
            "tags": []
          }
        }
      ]
    },
    {
      "cell_type": "code",
      "metadata": {
        "id": "-0bEqCrA2OGa"
      },
      "source": [
        "#Get Documentation about concatinate\n",
        "?c\n",
        "#help(c)"
      ],
      "execution_count": 41,
      "outputs": []
    },
    {
      "cell_type": "markdown",
      "metadata": {
        "id": "wIk26TAl3Uww"
      },
      "source": [
        "You can combine vectors to make a new vector. \n",
        "\n",
        "Create a new vector that contains z, 555, then z again in that order. Don't assign this vector to a new variable, so that we can just see the result immediately."
      ]
    },
    {
      "cell_type": "code",
      "metadata": {
        "colab": {
          "base_uri": "https://localhost:8080/",
          "height": 34
        },
        "id": "ijGw7IF73AoV",
        "outputId": "1aa1204a-c163-4e61-d042-d1c135de7201"
      },
      "source": [
        "d <-c(z,555,z)\r\n",
        "length(d)"
      ],
      "execution_count": 42,
      "outputs": [
        {
          "output_type": "display_data",
          "data": {
            "text/plain": [
              "[1] 7"
            ],
            "text/latex": "7",
            "text/markdown": "7",
            "text/html": [
              "7"
            ]
          },
          "metadata": {
            "tags": []
          }
        }
      ]
    },
    {
      "cell_type": "code",
      "metadata": {
        "id": "2nrXSHBjSFQ4"
      },
      "source": [
        "z<-c(3,6,5)"
      ],
      "execution_count": 43,
      "outputs": []
    },
    {
      "cell_type": "markdown",
      "metadata": {
        "id": "2W1R03gK3mWg"
      },
      "source": [
        "**Using Vector in Expression**\n",
        "\n",
        "compute z^2 + 3 and check output"
      ]
    },
    {
      "cell_type": "code",
      "metadata": {
        "colab": {
          "base_uri": "https://localhost:8080/",
          "height": 50
        },
        "id": "N_x4nZD-2ifL",
        "outputId": "ea910810-a65c-46f0-d459-5a1425f9cd4b"
      },
      "source": [
        "z\r\n",
        "z^2+3"
      ],
      "execution_count": 44,
      "outputs": [
        {
          "output_type": "display_data",
          "data": {
            "text/plain": [
              "[1] 3 6 5"
            ],
            "text/latex": "\\begin{enumerate*}\n\\item 3\n\\item 6\n\\item 5\n\\end{enumerate*}\n",
            "text/markdown": "1. 3\n2. 6\n3. 5\n\n\n",
            "text/html": [
              "<style>\n",
              ".list-inline {list-style: none; margin:0; padding: 0}\n",
              ".list-inline>li {display: inline-block}\n",
              ".list-inline>li:not(:last-child)::after {content: \"\\00b7\"; padding: 0 .5ex}\n",
              "</style>\n",
              "<ol class=list-inline><li>3</li><li>6</li><li>5</li></ol>\n"
            ]
          },
          "metadata": {
            "tags": []
          }
        },
        {
          "output_type": "display_data",
          "data": {
            "text/plain": [
              "[1] 12 39 28"
            ],
            "text/latex": "\\begin{enumerate*}\n\\item 12\n\\item 39\n\\item 28\n\\end{enumerate*}\n",
            "text/markdown": "1. 12\n2. 39\n3. 28\n\n\n",
            "text/html": [
              "<style>\n",
              ".list-inline {list-style: none; margin:0; padding: 0}\n",
              ".list-inline>li {display: inline-block}\n",
              ".list-inline>li:not(:last-child)::after {content: \"\\00b7\"; padding: 0 .5ex}\n",
              "</style>\n",
              "<ol class=list-inline><li>12</li><li>39</li><li>28</li></ol>\n"
            ]
          },
          "metadata": {
            "tags": []
          }
        }
      ]
    },
    {
      "cell_type": "markdown",
      "metadata": {
        "id": "C6Sl3d3m4Mpu"
      },
      "source": [
        "**Comman Arithmatic Operators in R**\n",
        "\n",
        "+, -, /, *, ^ are comman operators and sqrt, abs are arithmatic functions in R"
      ]
    },
    {
      "cell_type": "markdown",
      "metadata": {
        "id": "MhpNvKxD5b39"
      },
      "source": [
        "When given two vectors of the same length, R simply performs the specified arithmetic operation (`+`, `-`, `*` etc.) element-by-element. If the vectors are of different lengths, R 'recycles' the shorter vector until it is the same length as the longer vector.\n",
        "\n",
        "When we do z * 2 + 100, z is a vector of length 3, but technically 2 and 100 are each vectors of length 1."
      ]
    },
    {
      "cell_type": "code",
      "metadata": {
        "colab": {
          "base_uri": "https://localhost:8080/",
          "height": 50
        },
        "id": "ymnNvfCUJX__",
        "outputId": "6ed864a0-dd04-41fb-a377-57aedfeb1cc5"
      },
      "source": [
        "y<-rep(2,10)\n",
        "y\n",
        "length(y)"
      ],
      "execution_count": 45,
      "outputs": [
        {
          "output_type": "display_data",
          "data": {
            "text/plain": [
              " [1] 2 2 2 2 2 2 2 2 2 2"
            ],
            "text/latex": "\\begin{enumerate*}\n\\item 2\n\\item 2\n\\item 2\n\\item 2\n\\item 2\n\\item 2\n\\item 2\n\\item 2\n\\item 2\n\\item 2\n\\end{enumerate*}\n",
            "text/markdown": "1. 2\n2. 2\n3. 2\n4. 2\n5. 2\n6. 2\n7. 2\n8. 2\n9. 2\n10. 2\n\n\n",
            "text/html": [
              "<style>\n",
              ".list-inline {list-style: none; margin:0; padding: 0}\n",
              ".list-inline>li {display: inline-block}\n",
              ".list-inline>li:not(:last-child)::after {content: \"\\00b7\"; padding: 0 .5ex}\n",
              "</style>\n",
              "<ol class=list-inline><li>2</li><li>2</li><li>2</li><li>2</li><li>2</li><li>2</li><li>2</li><li>2</li><li>2</li><li>2</li></ol>\n"
            ]
          },
          "metadata": {
            "tags": []
          }
        },
        {
          "output_type": "display_data",
          "data": {
            "text/plain": [
              "[1] 10"
            ],
            "text/latex": "10",
            "text/markdown": "10",
            "text/html": [
              "10"
            ]
          },
          "metadata": {
            "tags": []
          }
        }
      ]
    },
    {
      "cell_type": "code",
      "metadata": {
        "colab": {
          "base_uri": "https://localhost:8080/",
          "height": 118
        },
        "id": "vENgSa6E32kc",
        "outputId": "ea5db44e-08a5-4c0a-a268-328d9bddc03c"
      },
      "source": [
        "# Does recycling explains output of following expression\n",
        "c(1, 2, 3, 4) + c(0, 10)\n",
        "c(1, 2, 3, 4) + c(0, 10, 0 ,10)\n",
        "c(1, 2, 3, 4, 5) + c(2, 10)\n",
        "c(1, 2, 3, 4, 5) + c(2, 10, 2, 10, 2)"
      ],
      "execution_count": 46,
      "outputs": [
        {
          "output_type": "display_data",
          "data": {
            "text/plain": [
              "[1]  1 12  3 14"
            ],
            "text/latex": "\\begin{enumerate*}\n\\item 1\n\\item 12\n\\item 3\n\\item 14\n\\end{enumerate*}\n",
            "text/markdown": "1. 1\n2. 12\n3. 3\n4. 14\n\n\n",
            "text/html": [
              "<style>\n",
              ".list-inline {list-style: none; margin:0; padding: 0}\n",
              ".list-inline>li {display: inline-block}\n",
              ".list-inline>li:not(:last-child)::after {content: \"\\00b7\"; padding: 0 .5ex}\n",
              "</style>\n",
              "<ol class=list-inline><li>1</li><li>12</li><li>3</li><li>14</li></ol>\n"
            ]
          },
          "metadata": {
            "tags": []
          }
        },
        {
          "output_type": "display_data",
          "data": {
            "text/plain": [
              "[1]  1 12  3 14"
            ],
            "text/latex": "\\begin{enumerate*}\n\\item 1\n\\item 12\n\\item 3\n\\item 14\n\\end{enumerate*}\n",
            "text/markdown": "1. 1\n2. 12\n3. 3\n4. 14\n\n\n",
            "text/html": [
              "<style>\n",
              ".list-inline {list-style: none; margin:0; padding: 0}\n",
              ".list-inline>li {display: inline-block}\n",
              ".list-inline>li:not(:last-child)::after {content: \"\\00b7\"; padding: 0 .5ex}\n",
              "</style>\n",
              "<ol class=list-inline><li>1</li><li>12</li><li>3</li><li>14</li></ol>\n"
            ]
          },
          "metadata": {
            "tags": []
          }
        },
        {
          "output_type": "stream",
          "text": [
            "Warning message in c(1, 2, 3, 4, 5) + c(2, 10):\n",
            "“longer object length is not a multiple of shorter object length”\n"
          ],
          "name": "stderr"
        },
        {
          "output_type": "display_data",
          "data": {
            "text/plain": [
              "[1]  3 12  5 14  7"
            ],
            "text/latex": "\\begin{enumerate*}\n\\item 3\n\\item 12\n\\item 5\n\\item 14\n\\item 7\n\\end{enumerate*}\n",
            "text/markdown": "1. 3\n2. 12\n3. 5\n4. 14\n5. 7\n\n\n",
            "text/html": [
              "<style>\n",
              ".list-inline {list-style: none; margin:0; padding: 0}\n",
              ".list-inline>li {display: inline-block}\n",
              ".list-inline>li:not(:last-child)::after {content: \"\\00b7\"; padding: 0 .5ex}\n",
              "</style>\n",
              "<ol class=list-inline><li>3</li><li>12</li><li>5</li><li>14</li><li>7</li></ol>\n"
            ]
          },
          "metadata": {
            "tags": []
          }
        },
        {
          "output_type": "display_data",
          "data": {
            "text/plain": [
              "[1]  3 12  5 14  7"
            ],
            "text/latex": "\\begin{enumerate*}\n\\item 3\n\\item 12\n\\item 5\n\\item 14\n\\item 7\n\\end{enumerate*}\n",
            "text/markdown": "1. 3\n2. 12\n3. 5\n4. 14\n5. 7\n\n\n",
            "text/html": [
              "<style>\n",
              ".list-inline {list-style: none; margin:0; padding: 0}\n",
              ".list-inline>li {display: inline-block}\n",
              ".list-inline>li:not(:last-child)::after {content: \"\\00b7\"; padding: 0 .5ex}\n",
              "</style>\n",
              "<ol class=list-inline><li>3</li><li>12</li><li>5</li><li>14</li><li>7</li></ol>\n"
            ]
          },
          "metadata": {
            "tags": []
          }
        }
      ]
    },
    {
      "cell_type": "markdown",
      "metadata": {
        "id": "WQW7cdOiUQGB"
      },
      "source": [
        "**How to access disk?** "
      ]
    },
    {
      "cell_type": "code",
      "metadata": {
        "id": "5lA714zl6KG3",
        "colab": {
          "base_uri": "https://localhost:8080/",
          "height": 34
        },
        "outputId": "15324775-4e38-4937-ac75-d66f3e29fe23"
      },
      "source": [
        "curdir<-getwd()\n",
        "curdir"
      ],
      "execution_count": 47,
      "outputs": [
        {
          "output_type": "display_data",
          "data": {
            "text/plain": [
              "[1] \"/content/myworkplace/exp1\""
            ],
            "text/latex": "'/content/myworkplace/exp1'",
            "text/markdown": "'/content/myworkplace/exp1'",
            "text/html": [
              "'/content/myworkplace/exp1'"
            ]
          },
          "metadata": {
            "tags": []
          }
        }
      ]
    },
    {
      "cell_type": "code",
      "metadata": {
        "colab": {
          "base_uri": "https://localhost:8080/",
          "height": 34
        },
        "id": "qfLiWY-f2bx3",
        "outputId": "2897423a-451d-4b5d-f00a-0125b05b1b9f"
      },
      "source": [
        "ls()"
      ],
      "execution_count": 48,
      "outputs": [
        {
          "output_type": "display_data",
          "data": {
            "text/plain": [
              "[1] \"b\"       \"c\"       \"curdir\"  \"d\"       \"dirlist\" \"paths\"   \"y\"      \n",
              "[8] \"z\"       \"z1\"     "
            ],
            "text/latex": "\\begin{enumerate*}\n\\item 'b'\n\\item 'c'\n\\item 'curdir'\n\\item 'd'\n\\item 'dirlist'\n\\item 'paths'\n\\item 'y'\n\\item 'z'\n\\item 'z1'\n\\end{enumerate*}\n",
            "text/markdown": "1. 'b'\n2. 'c'\n3. 'curdir'\n4. 'd'\n5. 'dirlist'\n6. 'paths'\n7. 'y'\n8. 'z'\n9. 'z1'\n\n\n",
            "text/html": [
              "<style>\n",
              ".list-inline {list-style: none; margin:0; padding: 0}\n",
              ".list-inline>li {display: inline-block}\n",
              ".list-inline>li:not(:last-child)::after {content: \"\\00b7\"; padding: 0 .5ex}\n",
              "</style>\n",
              "<ol class=list-inline><li>'b'</li><li>'c'</li><li>'curdir'</li><li>'d'</li><li>'dirlist'</li><li>'paths'</li><li>'y'</li><li>'z'</li><li>'z1'</li></ol>\n"
            ]
          },
          "metadata": {
            "tags": []
          }
        }
      ]
    },
    {
      "cell_type": "code",
      "metadata": {
        "colab": {
          "base_uri": "https://localhost:8080/",
          "height": 34
        },
        "id": "ksWmlrly2nEP",
        "outputId": "4cb6482f-ce68-4398-e992-1748a4406527"
      },
      "source": [
        "#show you files in PWD\n",
        "list.files()\n",
        "#dir('.')"
      ],
      "execution_count": 49,
      "outputs": [
        {
          "output_type": "display_data",
          "data": {
            "text/plain": [
              "[1] \"my_file1.txt\" \"myfile.txt\"   \"myworkplace\" "
            ],
            "text/latex": "\\begin{enumerate*}\n\\item 'my\\_file1.txt'\n\\item 'myfile.txt'\n\\item 'myworkplace'\n\\end{enumerate*}\n",
            "text/markdown": "1. 'my_file1.txt'\n2. 'myfile.txt'\n3. 'myworkplace'\n\n\n",
            "text/html": [
              "<style>\n",
              ".list-inline {list-style: none; margin:0; padding: 0}\n",
              ".list-inline>li {display: inline-block}\n",
              ".list-inline>li:not(:last-child)::after {content: \"\\00b7\"; padding: 0 .5ex}\n",
              "</style>\n",
              "<ol class=list-inline><li>'my_file1.txt'</li><li>'myfile.txt'</li><li>'myworkplace'</li></ol>\n"
            ]
          },
          "metadata": {
            "tags": []
          }
        }
      ]
    },
    {
      "cell_type": "code",
      "metadata": {
        "colab": {
          "base_uri": "https://localhost:8080/",
          "height": 17
        },
        "id": "QkEscD2x3CnA",
        "outputId": "12d1bff6-f42d-4ac7-df02-ffcc01149c70"
      },
      "source": [
        "list.dirs('sample_data')"
      ],
      "execution_count": 50,
      "outputs": [
        {
          "output_type": "display_data",
          "data": {
            "text/plain": [
              "character(0)"
            ],
            "text/latex": "",
            "text/markdown": "",
            "text/html": [
              ""
            ]
          },
          "metadata": {
            "tags": []
          }
        }
      ]
    },
    {
      "cell_type": "code",
      "metadata": {
        "id": "Q_0Aq8xP3F2P"
      },
      "source": [
        "old_dir<-getwd()"
      ],
      "execution_count": 51,
      "outputs": []
    },
    {
      "cell_type": "code",
      "metadata": {
        "id": "qg_N6Ejx3krB"
      },
      "source": [
        "#creates a folder on ur device \n",
        "dir.create('test2')"
      ],
      "execution_count": 52,
      "outputs": []
    },
    {
      "cell_type": "code",
      "metadata": {
        "colab": {
          "base_uri": "https://localhost:8080/",
          "height": 34
        },
        "id": "sIkEEQaC38Mm",
        "outputId": "133b4b43-0810-4e0a-a0d7-7dfdf146664f"
      },
      "source": [
        "list.dirs()"
      ],
      "execution_count": 53,
      "outputs": [
        {
          "output_type": "display_data",
          "data": {
            "text/plain": [
              "[1] \".\"                  \"./myworkplace\"      \"./myworkplace/exp1\"\n",
              "[4] \"./myworkplace/exp2\" \"./test2\"           "
            ],
            "text/latex": "\\begin{enumerate*}\n\\item '.'\n\\item './myworkplace'\n\\item './myworkplace/exp1'\n\\item './myworkplace/exp2'\n\\item './test2'\n\\end{enumerate*}\n",
            "text/markdown": "1. '.'\n2. './myworkplace'\n3. './myworkplace/exp1'\n4. './myworkplace/exp2'\n5. './test2'\n\n\n",
            "text/html": [
              "<style>\n",
              ".list-inline {list-style: none; margin:0; padding: 0}\n",
              ".list-inline>li {display: inline-block}\n",
              ".list-inline>li:not(:last-child)::after {content: \"\\00b7\"; padding: 0 .5ex}\n",
              "</style>\n",
              "<ol class=list-inline><li>'.'</li><li>'./myworkplace'</li><li>'./myworkplace/exp1'</li><li>'./myworkplace/exp2'</li><li>'./test2'</li></ol>\n"
            ]
          },
          "metadata": {
            "tags": []
          }
        }
      ]
    },
    {
      "cell_type": "code",
      "metadata": {
        "id": "JEZqFJwN4Bit",
        "colab": {
          "base_uri": "https://localhost:8080/",
          "height": 34
        },
        "outputId": "44d3f04f-2189-47ea-a8a3-27527e93d7c5"
      },
      "source": [
        "getwd()"
      ],
      "execution_count": 54,
      "outputs": [
        {
          "output_type": "display_data",
          "data": {
            "text/plain": [
              "[1] \"/content/myworkplace/exp1\""
            ],
            "text/latex": "'/content/myworkplace/exp1'",
            "text/markdown": "'/content/myworkplace/exp1'",
            "text/html": [
              "'/content/myworkplace/exp1'"
            ]
          },
          "metadata": {
            "tags": []
          }
        }
      ]
    },
    {
      "cell_type": "code",
      "metadata": {
        "colab": {
          "base_uri": "https://localhost:8080/",
          "height": 34
        },
        "id": "-4s6O4Bs4IrF",
        "outputId": "94123d0c-0125-4266-e5f3-4109762eb5a7"
      },
      "source": [
        "file.create('mytest.R')"
      ],
      "execution_count": 55,
      "outputs": [
        {
          "output_type": "display_data",
          "data": {
            "text/plain": [
              "[1] TRUE"
            ],
            "text/latex": "TRUE",
            "text/markdown": "TRUE",
            "text/html": [
              "TRUE"
            ]
          },
          "metadata": {
            "tags": []
          }
        }
      ]
    },
    {
      "cell_type": "code",
      "metadata": {
        "colab": {
          "base_uri": "https://localhost:8080/",
          "height": 34
        },
        "id": "7qFMXVAD4aJp",
        "outputId": "1d8572c5-7b77-496f-89a6-5dd2e651e4cb"
      },
      "source": [
        "dir()"
      ],
      "execution_count": 56,
      "outputs": [
        {
          "output_type": "display_data",
          "data": {
            "text/plain": [
              "[1] \"my_file1.txt\" \"myfile.txt\"   \"mytest.R\"     \"myworkplace\"  \"test2\"       "
            ],
            "text/latex": "\\begin{enumerate*}\n\\item 'my\\_file1.txt'\n\\item 'myfile.txt'\n\\item 'mytest.R'\n\\item 'myworkplace'\n\\item 'test2'\n\\end{enumerate*}\n",
            "text/markdown": "1. 'my_file1.txt'\n2. 'myfile.txt'\n3. 'mytest.R'\n4. 'myworkplace'\n5. 'test2'\n\n\n",
            "text/html": [
              "<style>\n",
              ".list-inline {list-style: none; margin:0; padding: 0}\n",
              ".list-inline>li {display: inline-block}\n",
              ".list-inline>li:not(:last-child)::after {content: \"\\00b7\"; padding: 0 .5ex}\n",
              "</style>\n",
              "<ol class=list-inline><li>'my_file1.txt'</li><li>'myfile.txt'</li><li>'mytest.R'</li><li>'myworkplace'</li><li>'test2'</li></ol>\n"
            ]
          },
          "metadata": {
            "tags": []
          }
        }
      ]
    },
    {
      "cell_type": "code",
      "metadata": {
        "colab": {
          "base_uri": "https://localhost:8080/",
          "height": 50
        },
        "id": "haRUcBBT4kPf",
        "outputId": "7ff43652-c24e-4b99-f92e-99401838d6b4"
      },
      "source": [
        "file.exists('/test2/mytest.R')\n",
        "file.exists('mytest.R')"
      ],
      "execution_count": 57,
      "outputs": [
        {
          "output_type": "display_data",
          "data": {
            "text/plain": [
              "[1] FALSE"
            ],
            "text/latex": "FALSE",
            "text/markdown": "FALSE",
            "text/html": [
              "FALSE"
            ]
          },
          "metadata": {
            "tags": []
          }
        },
        {
          "output_type": "display_data",
          "data": {
            "text/plain": [
              "[1] TRUE"
            ],
            "text/latex": "TRUE",
            "text/markdown": "TRUE",
            "text/html": [
              "TRUE"
            ]
          },
          "metadata": {
            "tags": []
          }
        }
      ]
    },
    {
      "cell_type": "code",
      "metadata": {
        "colab": {
          "base_uri": "https://localhost:8080/",
          "height": 123
        },
        "id": "254zalqu4r2-",
        "outputId": "41c53257-7586-4a89-a8ba-c4557d25b0af"
      },
      "source": [
        "file.info('./myTest.R')"
      ],
      "execution_count": 58,
      "outputs": [
        {
          "output_type": "display_data",
          "data": {
            "text/plain": [
              "           size isdir mode mtime ctime atime uid gid uname grname\n",
              "./myTest.R NA   NA    <NA> <NA>  <NA>  <NA>  NA  NA  NA    NA    "
            ],
            "text/latex": "A data.frame: 1 × 10\n\\begin{tabular}{r|llllllllll}\n  & size & isdir & mode & mtime & ctime & atime & uid & gid & uname & grname\\\\\n  & <dbl> & <lgl> & <octmode> & <dttm> & <dttm> & <dttm> & <int> & <int> & <chr> & <chr>\\\\\n\\hline\n\t./myTest.R & NA & NA & NA & NA & NA & NA & NA & NA & NA & NA\\\\\n\\end{tabular}\n",
            "text/markdown": "\nA data.frame: 1 × 10\n\n| <!--/--> | size &lt;dbl&gt; | isdir &lt;lgl&gt; | mode &lt;octmode&gt; | mtime &lt;dttm&gt; | ctime &lt;dttm&gt; | atime &lt;dttm&gt; | uid &lt;int&gt; | gid &lt;int&gt; | uname &lt;chr&gt; | grname &lt;chr&gt; |\n|---|---|---|---|---|---|---|---|---|---|---|\n| ./myTest.R | NA | NA | NA | NA | NA | NA | NA | NA | NA | NA |\n\n",
            "text/html": [
              "<table class=\"dataframe\">\n",
              "<caption>A data.frame: 1 × 10</caption>\n",
              "<thead>\n",
              "\t<tr><th></th><th scope=col>size</th><th scope=col>isdir</th><th scope=col>mode</th><th scope=col>mtime</th><th scope=col>ctime</th><th scope=col>atime</th><th scope=col>uid</th><th scope=col>gid</th><th scope=col>uname</th><th scope=col>grname</th></tr>\n",
              "\t<tr><th></th><th scope=col>&lt;dbl&gt;</th><th scope=col>&lt;lgl&gt;</th><th scope=col>&lt;octmode&gt;</th><th scope=col>&lt;dttm&gt;</th><th scope=col>&lt;dttm&gt;</th><th scope=col>&lt;dttm&gt;</th><th scope=col>&lt;int&gt;</th><th scope=col>&lt;int&gt;</th><th scope=col>&lt;chr&gt;</th><th scope=col>&lt;chr&gt;</th></tr>\n",
              "</thead>\n",
              "<tbody>\n",
              "\t<tr><th scope=row>./myTest.R</th><td>NA</td><td>NA</td><td>NA</td><td>NA</td><td>NA</td><td>NA</td><td>NA</td><td>NA</td><td>NA</td><td>NA</td></tr>\n",
              "</tbody>\n",
              "</table>\n"
            ]
          },
          "metadata": {
            "tags": []
          }
        }
      ]
    },
    {
      "cell_type": "code",
      "metadata": {
        "colab": {
          "base_uri": "https://localhost:8080/",
          "height": 34
        },
        "id": "Zpnce-Rn5KTs",
        "outputId": "8edc5552-d01d-4e57-ea12-21c4ed613203"
      },
      "source": [
        "file.rename('mytest.R','mytest2.R')"
      ],
      "execution_count": 59,
      "outputs": [
        {
          "output_type": "display_data",
          "data": {
            "text/plain": [
              "[1] TRUE"
            ],
            "text/latex": "TRUE",
            "text/markdown": "TRUE",
            "text/html": [
              "TRUE"
            ]
          },
          "metadata": {
            "tags": []
          }
        }
      ]
    },
    {
      "cell_type": "code",
      "metadata": {
        "colab": {
          "base_uri": "https://localhost:8080/",
          "height": 34
        },
        "id": "7z0Z3KOX5exz",
        "outputId": "3f37ed46-ed33-4eda-a87b-29b12d625278"
      },
      "source": [
        "dir()"
      ],
      "execution_count": 60,
      "outputs": [
        {
          "output_type": "display_data",
          "data": {
            "text/plain": [
              "[1] \"my_file1.txt\" \"myfile.txt\"   \"mytest2.R\"    \"myworkplace\"  \"test2\"       "
            ],
            "text/latex": "\\begin{enumerate*}\n\\item 'my\\_file1.txt'\n\\item 'myfile.txt'\n\\item 'mytest2.R'\n\\item 'myworkplace'\n\\item 'test2'\n\\end{enumerate*}\n",
            "text/markdown": "1. 'my_file1.txt'\n2. 'myfile.txt'\n3. 'mytest2.R'\n4. 'myworkplace'\n5. 'test2'\n\n\n",
            "text/html": [
              "<style>\n",
              ".list-inline {list-style: none; margin:0; padding: 0}\n",
              ".list-inline>li {display: inline-block}\n",
              ".list-inline>li:not(:last-child)::after {content: \"\\00b7\"; padding: 0 .5ex}\n",
              "</style>\n",
              "<ol class=list-inline><li>'my_file1.txt'</li><li>'myfile.txt'</li><li>'mytest2.R'</li><li>'myworkplace'</li><li>'test2'</li></ol>\n"
            ]
          },
          "metadata": {
            "tags": []
          }
        }
      ]
    },
    {
      "cell_type": "code",
      "metadata": {
        "colab": {
          "base_uri": "https://localhost:8080/",
          "height": 34
        },
        "id": "A0RhfnOe5hzW",
        "outputId": "0e085412-cef2-4837-a466-302c0e53b794"
      },
      "source": [
        "file.copy('mytest2.R','mytest3.R')"
      ],
      "execution_count": 61,
      "outputs": [
        {
          "output_type": "display_data",
          "data": {
            "text/plain": [
              "[1] TRUE"
            ],
            "text/latex": "TRUE",
            "text/markdown": "TRUE",
            "text/html": [
              "TRUE"
            ]
          },
          "metadata": {
            "tags": []
          }
        }
      ]
    },
    {
      "cell_type": "code",
      "metadata": {
        "colab": {
          "base_uri": "https://localhost:8080/",
          "height": 34
        },
        "id": "_BRKWKFp8kuV",
        "outputId": "0254a677-e751-4986-b2b5-715dafaa39b1"
      },
      "source": [
        "file.path('testdir2','testdir3')"
      ],
      "execution_count": 62,
      "outputs": [
        {
          "output_type": "display_data",
          "data": {
            "text/plain": [
              "[1] \"testdir2/testdir3\""
            ],
            "text/latex": "'testdir2/testdir3'",
            "text/markdown": "'testdir2/testdir3'",
            "text/html": [
              "'testdir2/testdir3'"
            ]
          },
          "metadata": {
            "tags": []
          }
        }
      ]
    },
    {
      "cell_type": "code",
      "metadata": {
        "id": "6oN630V6577F"
      },
      "source": [
        " dir.create(file.path('testdir2','testdir3'),recursive = TRUE)"
      ],
      "execution_count": 63,
      "outputs": []
    },
    {
      "cell_type": "code",
      "metadata": {
        "id": "lZIz4bXC7L1f",
        "colab": {
          "base_uri": "https://localhost:8080/",
          "height": 34
        },
        "outputId": "fdbdd5e0-9753-4976-fd4b-3a3b8e3542ce"
      },
      "source": [
        "dir()"
      ],
      "execution_count": 64,
      "outputs": [
        {
          "output_type": "display_data",
          "data": {
            "text/plain": [
              "[1] \"my_file1.txt\" \"myfile.txt\"   \"mytest2.R\"    \"mytest3.R\"    \"myworkplace\" \n",
              "[6] \"test2\"        \"testdir2\"    "
            ],
            "text/latex": "\\begin{enumerate*}\n\\item 'my\\_file1.txt'\n\\item 'myfile.txt'\n\\item 'mytest2.R'\n\\item 'mytest3.R'\n\\item 'myworkplace'\n\\item 'test2'\n\\item 'testdir2'\n\\end{enumerate*}\n",
            "text/markdown": "1. 'my_file1.txt'\n2. 'myfile.txt'\n3. 'mytest2.R'\n4. 'mytest3.R'\n5. 'myworkplace'\n6. 'test2'\n7. 'testdir2'\n\n\n",
            "text/html": [
              "<style>\n",
              ".list-inline {list-style: none; margin:0; padding: 0}\n",
              ".list-inline>li {display: inline-block}\n",
              ".list-inline>li:not(:last-child)::after {content: \"\\00b7\"; padding: 0 .5ex}\n",
              "</style>\n",
              "<ol class=list-inline><li>'my_file1.txt'</li><li>'myfile.txt'</li><li>'mytest2.R'</li><li>'mytest3.R'</li><li>'myworkplace'</li><li>'test2'</li><li>'testdir2'</li></ol>\n"
            ]
          },
          "metadata": {
            "tags": []
          }
        }
      ]
    },
    {
      "cell_type": "code",
      "metadata": {
        "id": "9eI0FKYV7Uqr"
      },
      "source": [
        "setwd('testdir2')"
      ],
      "execution_count": 65,
      "outputs": []
    },
    {
      "cell_type": "code",
      "metadata": {
        "colab": {
          "base_uri": "https://localhost:8080/",
          "height": 50
        },
        "id": "zU4Ed3KXX4oe",
        "outputId": "b3d50fcd-7ea8-4245-e1a0-2d117db70e62"
      },
      "source": [
        "dir()\n",
        "getwd()"
      ],
      "execution_count": 66,
      "outputs": [
        {
          "output_type": "display_data",
          "data": {
            "text/plain": [
              "[1] \"testdir3\""
            ],
            "text/latex": "'testdir3'",
            "text/markdown": "'testdir3'",
            "text/html": [
              "'testdir3'"
            ]
          },
          "metadata": {
            "tags": []
          }
        },
        {
          "output_type": "display_data",
          "data": {
            "text/plain": [
              "[1] \"/content/myworkplace/exp1/testdir2\""
            ],
            "text/latex": "'/content/myworkplace/exp1/testdir2'",
            "text/markdown": "'/content/myworkplace/exp1/testdir2'",
            "text/html": [
              "'/content/myworkplace/exp1/testdir2'"
            ]
          },
          "metadata": {
            "tags": []
          }
        }
      ]
    },
    {
      "cell_type": "markdown",
      "metadata": {
        "id": "qM2e_KzXBjST"
      },
      "source": [
        "**Complete following tasks**\n",
        "\n",
        "Write R Code:\n",
        " \n",
        "\n",
        "1.    To create a directory named myworkplace in current working dirctory.\n",
        "2.   Create a folders/directories **exp1 and exp2** in it.\n",
        "3.   Navigate to **exp1** and create a file named **my_file.txt**. \n",
        "4.   Copy it to **my_file1.txt**\n",
        "5.   List files and folders in PWD and also in '/contents' directory  \n",
        "6.   Display only File access permisssion in the output for every file in **exp1** folder. "
      ]
    },
    {
      "cell_type": "code",
      "metadata": {
        "id": "t9sGb9VoDft9",
        "colab": {
          "base_uri": "https://localhost:8080/",
          "height": 34
        },
        "outputId": "28f72062-da33-4741-8e81-7f6cd38ed7fa"
      },
      "source": [
        "# To create a directory named myworkplace in current working dirctory.\n",
        "dir.create('myworkplace')\n",
        "dir()"
      ],
      "execution_count": 67,
      "outputs": [
        {
          "output_type": "display_data",
          "data": {
            "text/plain": [
              "[1] \"myworkplace\" \"testdir3\"   "
            ],
            "text/latex": "\\begin{enumerate*}\n\\item 'myworkplace'\n\\item 'testdir3'\n\\end{enumerate*}\n",
            "text/markdown": "1. 'myworkplace'\n2. 'testdir3'\n\n\n",
            "text/html": [
              "<style>\n",
              ".list-inline {list-style: none; margin:0; padding: 0}\n",
              ".list-inline>li {display: inline-block}\n",
              ".list-inline>li:not(:last-child)::after {content: \"\\00b7\"; padding: 0 .5ex}\n",
              "</style>\n",
              "<ol class=list-inline><li>'myworkplace'</li><li>'testdir3'</li></ol>\n"
            ]
          },
          "metadata": {
            "tags": []
          }
        }
      ]
    },
    {
      "cell_type": "code",
      "metadata": {
        "id": "JtqkpSm4bDdf"
      },
      "source": [
        "# Create a folders/directories exp1 and exp2 inside it.\n",
        "dirlist <- c('exp1','exp2')\n",
        "paths <- file.path('myworkplace',dirlist)\n",
        "dir.create(paths[1],recursive = TRUE)\n",
        "dir.create(paths[2],recursive=TRUE)"
      ],
      "execution_count": 68,
      "outputs": []
    },
    {
      "cell_type": "code",
      "metadata": {
        "colab": {
          "base_uri": "https://localhost:8080/",
          "height": 157
        },
        "id": "mvuhTSnUdUSh",
        "outputId": "6c05d7a3-fb58-4e86-89a0-fb18fb440e93"
      },
      "source": [
        "dir('./myworkplace')\n",
        "file.info('./myworkplace/exp1')"
      ],
      "execution_count": 69,
      "outputs": [
        {
          "output_type": "display_data",
          "data": {
            "text/plain": [
              "[1] \"exp1\" \"exp2\""
            ],
            "text/latex": "\\begin{enumerate*}\n\\item 'exp1'\n\\item 'exp2'\n\\end{enumerate*}\n",
            "text/markdown": "1. 'exp1'\n2. 'exp2'\n\n\n",
            "text/html": [
              "<style>\n",
              ".list-inline {list-style: none; margin:0; padding: 0}\n",
              ".list-inline>li {display: inline-block}\n",
              ".list-inline>li:not(:last-child)::after {content: \"\\00b7\"; padding: 0 .5ex}\n",
              "</style>\n",
              "<ol class=list-inline><li>'exp1'</li><li>'exp2'</li></ol>\n"
            ]
          },
          "metadata": {
            "tags": []
          }
        },
        {
          "output_type": "display_data",
          "data": {
            "text/plain": [
              "                   size isdir mode mtime               ctime              \n",
              "./myworkplace/exp1 4096 TRUE  755  2021-03-07 15:31:19 2021-03-07 15:31:19\n",
              "                   atime               uid gid uname grname\n",
              "./myworkplace/exp1 2021-03-07 15:31:19 0   0   root  root  "
            ],
            "text/latex": "A data.frame: 1 × 10\n\\begin{tabular}{r|llllllllll}\n  & size & isdir & mode & mtime & ctime & atime & uid & gid & uname & grname\\\\\n  & <dbl> & <lgl> & <octmode> & <dttm> & <dttm> & <dttm> & <int> & <int> & <chr> & <chr>\\\\\n\\hline\n\t./myworkplace/exp1 & 4096 & TRUE & 755 & 2021-03-07 15:31:19 & 2021-03-07 15:31:19 & 2021-03-07 15:31:19 & 0 & 0 & root & root\\\\\n\\end{tabular}\n",
            "text/markdown": "\nA data.frame: 1 × 10\n\n| <!--/--> | size &lt;dbl&gt; | isdir &lt;lgl&gt; | mode &lt;octmode&gt; | mtime &lt;dttm&gt; | ctime &lt;dttm&gt; | atime &lt;dttm&gt; | uid &lt;int&gt; | gid &lt;int&gt; | uname &lt;chr&gt; | grname &lt;chr&gt; |\n|---|---|---|---|---|---|---|---|---|---|---|\n| ./myworkplace/exp1 | 4096 | TRUE | 755 | 2021-03-07 15:31:19 | 2021-03-07 15:31:19 | 2021-03-07 15:31:19 | 0 | 0 | root | root |\n\n",
            "text/html": [
              "<table class=\"dataframe\">\n",
              "<caption>A data.frame: 1 × 10</caption>\n",
              "<thead>\n",
              "\t<tr><th></th><th scope=col>size</th><th scope=col>isdir</th><th scope=col>mode</th><th scope=col>mtime</th><th scope=col>ctime</th><th scope=col>atime</th><th scope=col>uid</th><th scope=col>gid</th><th scope=col>uname</th><th scope=col>grname</th></tr>\n",
              "\t<tr><th></th><th scope=col>&lt;dbl&gt;</th><th scope=col>&lt;lgl&gt;</th><th scope=col>&lt;octmode&gt;</th><th scope=col>&lt;dttm&gt;</th><th scope=col>&lt;dttm&gt;</th><th scope=col>&lt;dttm&gt;</th><th scope=col>&lt;int&gt;</th><th scope=col>&lt;int&gt;</th><th scope=col>&lt;chr&gt;</th><th scope=col>&lt;chr&gt;</th></tr>\n",
              "</thead>\n",
              "<tbody>\n",
              "\t<tr><th scope=row>./myworkplace/exp1</th><td>4096</td><td>TRUE</td><td>755</td><td>2021-03-07 15:31:19</td><td>2021-03-07 15:31:19</td><td>2021-03-07 15:31:19</td><td>0</td><td>0</td><td>root</td><td>root</td></tr>\n",
              "</tbody>\n",
              "</table>\n"
            ]
          },
          "metadata": {
            "tags": []
          }
        }
      ]
    },
    {
      "cell_type": "code",
      "metadata": {
        "colab": {
          "base_uri": "https://localhost:8080/",
          "height": 34
        },
        "id": "ixsinDvqcRK8",
        "outputId": "7354e391-9093-4e66-fa51-4b1e8eed14c2"
      },
      "source": [
        "# Navigate to exp1 directory\n",
        "setwd(paths[1])\n",
        "getwd()"
      ],
      "execution_count": 70,
      "outputs": [
        {
          "output_type": "display_data",
          "data": {
            "text/plain": [
              "[1] \"/content/myworkplace/exp1/testdir2/myworkplace/exp1\""
            ],
            "text/latex": "'/content/myworkplace/exp1/testdir2/myworkplace/exp1'",
            "text/markdown": "'/content/myworkplace/exp1/testdir2/myworkplace/exp1'",
            "text/html": [
              "'/content/myworkplace/exp1/testdir2/myworkplace/exp1'"
            ]
          },
          "metadata": {
            "tags": []
          }
        }
      ]
    },
    {
      "cell_type": "code",
      "metadata": {
        "colab": {
          "base_uri": "https://localhost:8080/",
          "height": 34
        },
        "id": "YYGLvgjvck_r",
        "outputId": "4bc5d66a-2902-45ad-fbff-108cc52e8d4d"
      },
      "source": [
        "# Created a file name myfile_text\n",
        "file.create('myfile.txt')"
      ],
      "execution_count": 71,
      "outputs": [
        {
          "output_type": "display_data",
          "data": {
            "text/plain": [
              "[1] TRUE"
            ],
            "text/latex": "TRUE",
            "text/markdown": "TRUE",
            "text/html": [
              "TRUE"
            ]
          },
          "metadata": {
            "tags": []
          }
        }
      ]
    },
    {
      "cell_type": "code",
      "metadata": {
        "id": "gECDhQV_bVLN",
        "colab": {
          "base_uri": "https://localhost:8080/",
          "height": 34
        },
        "outputId": "c7effc58-b39e-40b1-ed55-3e13c76e3904"
      },
      "source": [
        "# Copy it to my_file1.txt\n",
        "file.copy('myfile.txt', 'my_file1.txt')"
      ],
      "execution_count": 72,
      "outputs": [
        {
          "output_type": "display_data",
          "data": {
            "text/plain": [
              "[1] TRUE"
            ],
            "text/latex": "TRUE",
            "text/markdown": "TRUE",
            "text/html": [
              "TRUE"
            ]
          },
          "metadata": {
            "tags": []
          }
        }
      ]
    },
    {
      "cell_type": "code",
      "metadata": {
        "id": "GEn4wfTxcRf7",
        "colab": {
          "base_uri": "https://localhost:8080/",
          "height": 34
        },
        "outputId": "28819e0b-a406-4950-9c1c-bf0bca43eccc"
      },
      "source": [
        "# List files and folders in PWD and also in '/contents' directory \n",
        "list.files()"
      ],
      "execution_count": 73,
      "outputs": [
        {
          "output_type": "display_data",
          "data": {
            "text/plain": [
              "[1] \"my_file1.txt\" \"myfile.txt\"  "
            ],
            "text/latex": "\\begin{enumerate*}\n\\item 'my\\_file1.txt'\n\\item 'myfile.txt'\n\\end{enumerate*}\n",
            "text/markdown": "1. 'my_file1.txt'\n2. 'myfile.txt'\n\n\n",
            "text/html": [
              "<style>\n",
              ".list-inline {list-style: none; margin:0; padding: 0}\n",
              ".list-inline>li {display: inline-block}\n",
              ".list-inline>li:not(:last-child)::after {content: \"\\00b7\"; padding: 0 .5ex}\n",
              "</style>\n",
              "<ol class=list-inline><li>'my_file1.txt'</li><li>'myfile.txt'</li></ol>\n"
            ]
          },
          "metadata": {
            "tags": []
          }
        }
      ]
    },
    {
      "cell_type": "code",
      "metadata": {
        "colab": {
          "base_uri": "https://localhost:8080/",
          "height": 101
        },
        "id": "-EjaxQuHsODS",
        "outputId": "b4b30489-71da-458b-f850-7e0198eef09c"
      },
      "source": [
        "# files and folder in '/content'\n",
        "setwd('/content')\n",
        "list.dirs()"
      ],
      "execution_count": 74,
      "outputs": [
        {
          "output_type": "display_data",
          "data": {
            "text/plain": [
              " [1] \".\"                                           \n",
              " [2] \"./.config\"                                   \n",
              " [3] \"./.config/configurations\"                    \n",
              " [4] \"./.config/logs\"                              \n",
              " [5] \"./.config/logs/2021.03.01\"                   \n",
              " [6] \"./myworkplace\"                               \n",
              " [7] \"./myworkplace/exp1\"                          \n",
              " [8] \"./myworkplace/exp1/myworkplace\"              \n",
              " [9] \"./myworkplace/exp1/myworkplace/exp1\"         \n",
              "[10] \"./myworkplace/exp1/myworkplace/exp2\"         \n",
              "[11] \"./myworkplace/exp1/test2\"                    \n",
              "[12] \"./myworkplace/exp1/testdir2\"                 \n",
              "[13] \"./myworkplace/exp1/testdir2/myworkplace\"     \n",
              "[14] \"./myworkplace/exp1/testdir2/myworkplace/exp1\"\n",
              "[15] \"./myworkplace/exp1/testdir2/myworkplace/exp2\"\n",
              "[16] \"./myworkplace/exp1/testdir2/testdir3\"        \n",
              "[17] \"./myworkplace/exp2\"                          \n",
              "[18] \"./sample_data\"                               "
            ],
            "text/latex": "\\begin{enumerate*}\n\\item '.'\n\\item './.config'\n\\item './.config/configurations'\n\\item './.config/logs'\n\\item './.config/logs/2021.03.01'\n\\item './myworkplace'\n\\item './myworkplace/exp1'\n\\item './myworkplace/exp1/myworkplace'\n\\item './myworkplace/exp1/myworkplace/exp1'\n\\item './myworkplace/exp1/myworkplace/exp2'\n\\item './myworkplace/exp1/test2'\n\\item './myworkplace/exp1/testdir2'\n\\item './myworkplace/exp1/testdir2/myworkplace'\n\\item './myworkplace/exp1/testdir2/myworkplace/exp1'\n\\item './myworkplace/exp1/testdir2/myworkplace/exp2'\n\\item './myworkplace/exp1/testdir2/testdir3'\n\\item './myworkplace/exp2'\n\\item './sample\\_data'\n\\end{enumerate*}\n",
            "text/markdown": "1. '.'\n2. './.config'\n3. './.config/configurations'\n4. './.config/logs'\n5. './.config/logs/2021.03.01'\n6. './myworkplace'\n7. './myworkplace/exp1'\n8. './myworkplace/exp1/myworkplace'\n9. './myworkplace/exp1/myworkplace/exp1'\n10. './myworkplace/exp1/myworkplace/exp2'\n11. './myworkplace/exp1/test2'\n12. './myworkplace/exp1/testdir2'\n13. './myworkplace/exp1/testdir2/myworkplace'\n14. './myworkplace/exp1/testdir2/myworkplace/exp1'\n15. './myworkplace/exp1/testdir2/myworkplace/exp2'\n16. './myworkplace/exp1/testdir2/testdir3'\n17. './myworkplace/exp2'\n18. './sample_data'\n\n\n",
            "text/html": [
              "<style>\n",
              ".list-inline {list-style: none; margin:0; padding: 0}\n",
              ".list-inline>li {display: inline-block}\n",
              ".list-inline>li:not(:last-child)::after {content: \"\\00b7\"; padding: 0 .5ex}\n",
              "</style>\n",
              "<ol class=list-inline><li>'.'</li><li>'./.config'</li><li>'./.config/configurations'</li><li>'./.config/logs'</li><li>'./.config/logs/2021.03.01'</li><li>'./myworkplace'</li><li>'./myworkplace/exp1'</li><li>'./myworkplace/exp1/myworkplace'</li><li>'./myworkplace/exp1/myworkplace/exp1'</li><li>'./myworkplace/exp1/myworkplace/exp2'</li><li>'./myworkplace/exp1/test2'</li><li>'./myworkplace/exp1/testdir2'</li><li>'./myworkplace/exp1/testdir2/myworkplace'</li><li>'./myworkplace/exp1/testdir2/myworkplace/exp1'</li><li>'./myworkplace/exp1/testdir2/myworkplace/exp2'</li><li>'./myworkplace/exp1/testdir2/testdir3'</li><li>'./myworkplace/exp2'</li><li>'./sample_data'</li></ol>\n"
            ]
          },
          "metadata": {
            "tags": []
          }
        }
      ]
    },
    {
      "cell_type": "code",
      "metadata": {
        "id": "cThG20aDdDJw",
        "colab": {
          "base_uri": "https://localhost:8080/",
          "height": 84
        },
        "outputId": "94057420-7c13-4aff-bab1-85be3f7dc513"
      },
      "source": [
        "# Display only File access permisssion in the output for every file in exp1 folder. \n",
        "setwd('./myworkplace/exp1')\n",
        "# test for existence.\n",
        "file.access(list.files(), 0)\n",
        "# test for execute permission.\n",
        "file.access(list.files(), 1)\n",
        "# test for write permission.\n",
        "file.access(list.files(), 2)\n",
        "# test for read permission.\n",
        "file.access(list.files(), 3)"
      ],
      "execution_count": 75,
      "outputs": [
        {
          "output_type": "display_data",
          "data": {
            "text/plain": [
              "my_file1.txt   myfile.txt    mytest2.R    mytest3.R  myworkplace        test2 \n",
              "           0            0            0            0            0            0 \n",
              "    testdir2 \n",
              "           0 "
            ],
            "text/latex": "\\begin{description*}\n\\item[my\\textbackslash{}\\_file1.txt] 0\n\\item[myfile.txt] 0\n\\item[mytest2.R] 0\n\\item[mytest3.R] 0\n\\item[myworkplace] 0\n\\item[test2] 0\n\\item[testdir2] 0\n\\end{description*}\n",
            "text/markdown": "my_file1.txt\n:   0myfile.txt\n:   0mytest2.R\n:   0mytest3.R\n:   0myworkplace\n:   0test2\n:   0testdir2\n:   0\n\n",
            "text/html": [
              "<style>\n",
              ".dl-inline {width: auto; margin:0; padding: 0}\n",
              ".dl-inline>dt, .dl-inline>dd {float: none; width: auto; display: inline-block}\n",
              ".dl-inline>dt::after {content: \":\\0020\"; padding-right: .5ex}\n",
              ".dl-inline>dt:not(:first-of-type) {padding-left: .5ex}\n",
              "</style><dl class=dl-inline><dt>my_file1.txt</dt><dd>0</dd><dt>myfile.txt</dt><dd>0</dd><dt>mytest2.R</dt><dd>0</dd><dt>mytest3.R</dt><dd>0</dd><dt>myworkplace</dt><dd>0</dd><dt>test2</dt><dd>0</dd><dt>testdir2</dt><dd>0</dd></dl>\n"
            ]
          },
          "metadata": {
            "tags": []
          }
        },
        {
          "output_type": "display_data",
          "data": {
            "text/plain": [
              "my_file1.txt   myfile.txt    mytest2.R    mytest3.R  myworkplace        test2 \n",
              "          -1           -1           -1           -1            0            0 \n",
              "    testdir2 \n",
              "           0 "
            ],
            "text/latex": "\\begin{description*}\n\\item[my\\textbackslash{}\\_file1.txt] -1\n\\item[myfile.txt] -1\n\\item[mytest2.R] -1\n\\item[mytest3.R] -1\n\\item[myworkplace] 0\n\\item[test2] 0\n\\item[testdir2] 0\n\\end{description*}\n",
            "text/markdown": "my_file1.txt\n:   -1myfile.txt\n:   -1mytest2.R\n:   -1mytest3.R\n:   -1myworkplace\n:   0test2\n:   0testdir2\n:   0\n\n",
            "text/html": [
              "<style>\n",
              ".dl-inline {width: auto; margin:0; padding: 0}\n",
              ".dl-inline>dt, .dl-inline>dd {float: none; width: auto; display: inline-block}\n",
              ".dl-inline>dt::after {content: \":\\0020\"; padding-right: .5ex}\n",
              ".dl-inline>dt:not(:first-of-type) {padding-left: .5ex}\n",
              "</style><dl class=dl-inline><dt>my_file1.txt</dt><dd>-1</dd><dt>myfile.txt</dt><dd>-1</dd><dt>mytest2.R</dt><dd>-1</dd><dt>mytest3.R</dt><dd>-1</dd><dt>myworkplace</dt><dd>0</dd><dt>test2</dt><dd>0</dd><dt>testdir2</dt><dd>0</dd></dl>\n"
            ]
          },
          "metadata": {
            "tags": []
          }
        },
        {
          "output_type": "display_data",
          "data": {
            "text/plain": [
              "my_file1.txt   myfile.txt    mytest2.R    mytest3.R  myworkplace        test2 \n",
              "           0            0            0            0            0            0 \n",
              "    testdir2 \n",
              "           0 "
            ],
            "text/latex": "\\begin{description*}\n\\item[my\\textbackslash{}\\_file1.txt] 0\n\\item[myfile.txt] 0\n\\item[mytest2.R] 0\n\\item[mytest3.R] 0\n\\item[myworkplace] 0\n\\item[test2] 0\n\\item[testdir2] 0\n\\end{description*}\n",
            "text/markdown": "my_file1.txt\n:   0myfile.txt\n:   0mytest2.R\n:   0mytest3.R\n:   0myworkplace\n:   0test2\n:   0testdir2\n:   0\n\n",
            "text/html": [
              "<style>\n",
              ".dl-inline {width: auto; margin:0; padding: 0}\n",
              ".dl-inline>dt, .dl-inline>dd {float: none; width: auto; display: inline-block}\n",
              ".dl-inline>dt::after {content: \":\\0020\"; padding-right: .5ex}\n",
              ".dl-inline>dt:not(:first-of-type) {padding-left: .5ex}\n",
              "</style><dl class=dl-inline><dt>my_file1.txt</dt><dd>0</dd><dt>myfile.txt</dt><dd>0</dd><dt>mytest2.R</dt><dd>0</dd><dt>mytest3.R</dt><dd>0</dd><dt>myworkplace</dt><dd>0</dd><dt>test2</dt><dd>0</dd><dt>testdir2</dt><dd>0</dd></dl>\n"
            ]
          },
          "metadata": {
            "tags": []
          }
        },
        {
          "output_type": "display_data",
          "data": {
            "text/plain": [
              "my_file1.txt   myfile.txt    mytest2.R    mytest3.R  myworkplace        test2 \n",
              "          -1           -1           -1           -1            0            0 \n",
              "    testdir2 \n",
              "           0 "
            ],
            "text/latex": "\\begin{description*}\n\\item[my\\textbackslash{}\\_file1.txt] -1\n\\item[myfile.txt] -1\n\\item[mytest2.R] -1\n\\item[mytest3.R] -1\n\\item[myworkplace] 0\n\\item[test2] 0\n\\item[testdir2] 0\n\\end{description*}\n",
            "text/markdown": "my_file1.txt\n:   -1myfile.txt\n:   -1mytest2.R\n:   -1mytest3.R\n:   -1myworkplace\n:   0test2\n:   0testdir2\n:   0\n\n",
            "text/html": [
              "<style>\n",
              ".dl-inline {width: auto; margin:0; padding: 0}\n",
              ".dl-inline>dt, .dl-inline>dd {float: none; width: auto; display: inline-block}\n",
              ".dl-inline>dt::after {content: \":\\0020\"; padding-right: .5ex}\n",
              ".dl-inline>dt:not(:first-of-type) {padding-left: .5ex}\n",
              "</style><dl class=dl-inline><dt>my_file1.txt</dt><dd>-1</dd><dt>myfile.txt</dt><dd>-1</dd><dt>mytest2.R</dt><dd>-1</dd><dt>mytest3.R</dt><dd>-1</dd><dt>myworkplace</dt><dd>0</dd><dt>test2</dt><dd>0</dd><dt>testdir2</dt><dd>0</dd></dl>\n"
            ]
          },
          "metadata": {
            "tags": []
          }
        }
      ]
    },
    {
      "cell_type": "code",
      "metadata": {
        "id": "Wnw1rf1stCQX"
      },
      "source": [
        ""
      ],
      "execution_count": 76,
      "outputs": []
    }
  ]
}